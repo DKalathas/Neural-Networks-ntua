{
  "cells": [
    {
      "cell_type": "markdown",
      "metadata": {
        "id": "PSYH3gPpzIkC"
      },
      "source": [
        "# Νευρωνικά Δίκτυα και Ευφυή Υπολογιστικά Συστήματα\n",
        "## Εργασία 1. Επιβλεπόμενη Μάθηση\n",
        "Δημήτριος Καλαθάς - el18016 <br>\n",
        "Δημήτριος Μπακάλης - el18163<br>\n",
        "Δημήτριος Καλέμης - el18152"
      ]
    },
    {
      "cell_type": "markdown",
      "metadata": {
        "id": "pBJHuNtDBlL4"
      },
      "source": [
        "#<font color=7284A8>Μέρος 1. UCI dataset (40%)</font>\n"
      ]
    },
    {
      "cell_type": "markdown",
      "metadata": {
        "id": "mfTlsc8tBxqK"
      },
      "source": [
        "##Εισαγωγή και επισκόπηση"
      ]
    },
    {
      "cell_type": "markdown",
      "metadata": {
        "id": "6JdnAXaJYnNs"
      },
      "source": [
        "**Περιγραφή του Dataset**\n",
        "\n",
        "Το dataset με το οποίο θα δουλέψει η ομάδα μας (ομάδα 91) είναι το [Dermatology Data Set](http://archive.ics.uci.edu/ml/datasets/Dermatology). Σκοπός αυτού του dataset είναι να προσδιορίσει τον τύπο της ερυθηματο-πλακώδους νόσου (Erythemato-Squamous Disease or ESD). Πιο συγκεκριμένα, το σύνολο δεδομένων έχει 366 δείγματα για περιπτώσεις της πάθησης και περιλαμβάνει 34 κλινικά και ιστοπαθολογικά χαρακτηριστικά (attributes) για κάθε δείγμα, όπως ερύθημα, φαγούρα, εξωκυττάρωση και ακράτεια μελανίνης. Τα χαρακτηριστικά αυτά, παίρνουν τιμές από το 0 έως το 3. Το 0 δείχνει πως το χαρακτηριστικό αυτό δεν υπάρχει και το 3 δείχνει πως υπάρχει στο μέγιστο βαθμό, ενώ οι τιμές 1 και 2 είναι ενδιάμεσες καταστάσεις. Εξαίρεση αποτελούν τα χαρακτηριστικά \"family history\" και \"Age\". Στο πρώτο, με 1 συμβολίζεται η ύπαρξη κάποιας από τις ESD ασθένειες στον οικογενειακό κύκλο και με 0 η μη ύπαρξη αυτής, ενώ στο δεύτερο αντιστοιχεί η ηλικία του ασθενή. Το σύνολο δεδομένων δεν περιέχει επικεφαλίδες ούτε αρίθμηση γραμμών, οπότε η αντιστοίχιση των labels και των χαρακτηριστικών γίνεται παρακάτω manually. Όπως αναφέρεται και στο documentation του dataset, υπάρχουν 8 απουσιάζουσες τιμές στο χαρακτηριστικό 'Age'. Τα κελιά σε αυτές τις θέσεις έχουν τον χαρακτήρα '?' ο οποίος δηλώνει πως δεν έχουμε τιμή σε αυτή τη θέση. Το ποσοστό missing values επί του συνόλου είναι: $$Π = {8\\over 366}\\times100 \\% = 2,18 \\%$$\n",
        "\n",
        "Ακόμη, υπάρχουν 6 δυνατοί τύποι ερυθηματο-πλακώδους νόσου (ετικέτες κλάσεων) στην 35η στήλη, οι οποίοι αναγράφονται παρακάτω μαζί με τη συχνότητα εμφάνισής τους:\n",
        "\n",
        "       Class code:   Class:                  Number of instances:    Percentage:\n",
        "       1             psoriasis\t\t\t          112                 0.306\n",
        "       2             seboreic dermatitis             61                 0.166\n",
        "       3             lichen planus                   72                 0,196\n",
        "       4             pityriasis rosea                49                 0,133\n",
        "       5             cronic dermatitis               52                 0,142\n",
        "       6             pityriasis rubra pilaris        20                 0,054\n",
        "\n",
        "Παρατηρούμε πως το dataset δεν είναι ισορροπημένο, από τη στιγμή που η ετικέτα 'psoriasis' είναι περίπου 5 φορές συχνότερη από την ετικέτα 'pityriasis rubra pilaris'. Συνεπώς υπάρχει τουλάχιστον μια κλάση, η οποία είναι 1.5 φορά πιο συχνή από κάποια άλλη και άρα το σύνολο δεδομένων δεν είναι ισορροπημένο."
      ]
    },
    {
      "cell_type": "markdown",
      "metadata": {
        "id": "NRmhcvFyzk5h"
      },
      "source": [
        "###Imports"
      ]
    },
    {
      "cell_type": "code",
      "execution_count": null,
      "metadata": {
        "id": "858LcZFVQmec"
      },
      "outputs": [],
      "source": [
        "import numpy as np\n",
        "import pandas as pd\n",
        "from IPython.display import display\n",
        "import warnings\n",
        "from sklearn.impute import SimpleImputer\n",
        "from sklearn.model_selection import train_test_split\n",
        "from sklearn.dummy import DummyClassifier\n",
        "from sklearn.metrics import accuracy_score, f1_score\n",
        "from sklearn.naive_bayes import GaussianNB\n",
        "from sklearn.neighbors import KNeighborsClassifier\n",
        "from sklearn.linear_model import LogisticRegression\n",
        "from sklearn.model_selection import cross_val_score\n",
        "from sklearn.model_selection import GridSearchCV\n",
        "from sklearn.feature_selection import VarianceThreshold\n",
        "from sklearn.preprocessing import StandardScaler\n",
        "from imblearn.over_sampling import RandomOverSampler\n",
        "from sklearn.decomposition import PCA\n",
        "from imblearn.pipeline import Pipeline\n",
        "from sklearn.metrics import classification_report\n",
        "import time\n",
        "from sklearn.metrics import confusion_matrix\n",
        "import seaborn as sn\n",
        "import matplotlib.pyplot as plt\n",
        "\n",
        "\n",
        "warnings.filterwarnings(\"ignore\")"
      ]
    },
    {
      "cell_type": "markdown",
      "metadata": {
        "id": "1KwGwDwURAqV"
      },
      "source": [
        "###Read Dataset:"
      ]
    },
    {
      "cell_type": "markdown",
      "metadata": {
        "id": "KIQu4Ohu1_pC"
      },
      "source": [
        "Ανοίγουμε το dataset ως csv με την pandas βιβλιοθήκη και αντικαθιστούμε τον χαρακτήρα '?' που υπάρχει στο column της ηλικίας με np.NaN για να το επεξεργαστούμε στη συνέχεια."
      ]
    },
    {
      "cell_type": "code",
      "execution_count": null,
      "metadata": {
        "colab": {
          "base_uri": "https://localhost:8080/",
          "height": 419
        },
        "id": "uTW5Fguv0Atj",
        "outputId": "92fb0f06-860a-40e7-9f21-53925755ecb9"
      },
      "outputs": [
        {
          "output_type": "execute_result",
          "data": {
            "text/plain": [
              "     0   1   2   3   4   5   6   7   8   9   ...  25  26  27  28  29  30  31  \\\n",
              "0     2   2   0   3   0   0   0   0   1   0  ...   0   0   3   0   0   0   1   \n",
              "1     3   3   3   2   1   0   0   0   1   1  ...   0   0   0   0   0   0   1   \n",
              "2     2   1   2   3   1   3   0   3   0   0  ...   0   2   3   2   0   0   2   \n",
              "3     2   2   2   0   0   0   0   0   3   2  ...   3   0   0   0   0   0   3   \n",
              "4     2   3   2   2   2   2   0   2   0   0  ...   2   3   2   3   0   0   2   \n",
              "..   ..  ..  ..  ..  ..  ..  ..  ..  ..  ..  ...  ..  ..  ..  ..  ..  ..  ..   \n",
              "361   2   1   1   0   1   0   0   0   0   0  ...   0   0   1   0   0   0   2   \n",
              "362   3   2   1   0   1   0   0   0   0   0  ...   1   0   1   0   0   0   2   \n",
              "363   3   2   2   2   3   2   0   2   0   0  ...   0   3   0   3   0   0   2   \n",
              "364   2   1   3   1   2   3   0   2   0   0  ...   0   2   0   1   0   0   2   \n",
              "365   3   2   2   0   0   0   0   0   3   3  ...   2   0   0   0   0   0   3   \n",
              "\n",
              "     32  33  34  \n",
              "0     0  55   2  \n",
              "1     0   8   1  \n",
              "2     3  26   3  \n",
              "3     0  40   1  \n",
              "4     3  45   3  \n",
              "..   ..  ..  ..  \n",
              "361   0  25   4  \n",
              "362   0  36   4  \n",
              "363   3  28   3  \n",
              "364   3  50   3  \n",
              "365   0  35   1  \n",
              "\n",
              "[366 rows x 35 columns]"
            ],
            "text/html": [
              "\n",
              "  <div id=\"df-e0be0eb8-2396-40c1-8211-d2abffd49933\">\n",
              "    <div class=\"colab-df-container\">\n",
              "      <div>\n",
              "<style scoped>\n",
              "    .dataframe tbody tr th:only-of-type {\n",
              "        vertical-align: middle;\n",
              "    }\n",
              "\n",
              "    .dataframe tbody tr th {\n",
              "        vertical-align: top;\n",
              "    }\n",
              "\n",
              "    .dataframe thead th {\n",
              "        text-align: right;\n",
              "    }\n",
              "</style>\n",
              "<table border=\"1\" class=\"dataframe\">\n",
              "  <thead>\n",
              "    <tr style=\"text-align: right;\">\n",
              "      <th></th>\n",
              "      <th>0</th>\n",
              "      <th>1</th>\n",
              "      <th>2</th>\n",
              "      <th>3</th>\n",
              "      <th>4</th>\n",
              "      <th>5</th>\n",
              "      <th>6</th>\n",
              "      <th>7</th>\n",
              "      <th>8</th>\n",
              "      <th>9</th>\n",
              "      <th>...</th>\n",
              "      <th>25</th>\n",
              "      <th>26</th>\n",
              "      <th>27</th>\n",
              "      <th>28</th>\n",
              "      <th>29</th>\n",
              "      <th>30</th>\n",
              "      <th>31</th>\n",
              "      <th>32</th>\n",
              "      <th>33</th>\n",
              "      <th>34</th>\n",
              "    </tr>\n",
              "  </thead>\n",
              "  <tbody>\n",
              "    <tr>\n",
              "      <th>0</th>\n",
              "      <td>2</td>\n",
              "      <td>2</td>\n",
              "      <td>0</td>\n",
              "      <td>3</td>\n",
              "      <td>0</td>\n",
              "      <td>0</td>\n",
              "      <td>0</td>\n",
              "      <td>0</td>\n",
              "      <td>1</td>\n",
              "      <td>0</td>\n",
              "      <td>...</td>\n",
              "      <td>0</td>\n",
              "      <td>0</td>\n",
              "      <td>3</td>\n",
              "      <td>0</td>\n",
              "      <td>0</td>\n",
              "      <td>0</td>\n",
              "      <td>1</td>\n",
              "      <td>0</td>\n",
              "      <td>55</td>\n",
              "      <td>2</td>\n",
              "    </tr>\n",
              "    <tr>\n",
              "      <th>1</th>\n",
              "      <td>3</td>\n",
              "      <td>3</td>\n",
              "      <td>3</td>\n",
              "      <td>2</td>\n",
              "      <td>1</td>\n",
              "      <td>0</td>\n",
              "      <td>0</td>\n",
              "      <td>0</td>\n",
              "      <td>1</td>\n",
              "      <td>1</td>\n",
              "      <td>...</td>\n",
              "      <td>0</td>\n",
              "      <td>0</td>\n",
              "      <td>0</td>\n",
              "      <td>0</td>\n",
              "      <td>0</td>\n",
              "      <td>0</td>\n",
              "      <td>1</td>\n",
              "      <td>0</td>\n",
              "      <td>8</td>\n",
              "      <td>1</td>\n",
              "    </tr>\n",
              "    <tr>\n",
              "      <th>2</th>\n",
              "      <td>2</td>\n",
              "      <td>1</td>\n",
              "      <td>2</td>\n",
              "      <td>3</td>\n",
              "      <td>1</td>\n",
              "      <td>3</td>\n",
              "      <td>0</td>\n",
              "      <td>3</td>\n",
              "      <td>0</td>\n",
              "      <td>0</td>\n",
              "      <td>...</td>\n",
              "      <td>0</td>\n",
              "      <td>2</td>\n",
              "      <td>3</td>\n",
              "      <td>2</td>\n",
              "      <td>0</td>\n",
              "      <td>0</td>\n",
              "      <td>2</td>\n",
              "      <td>3</td>\n",
              "      <td>26</td>\n",
              "      <td>3</td>\n",
              "    </tr>\n",
              "    <tr>\n",
              "      <th>3</th>\n",
              "      <td>2</td>\n",
              "      <td>2</td>\n",
              "      <td>2</td>\n",
              "      <td>0</td>\n",
              "      <td>0</td>\n",
              "      <td>0</td>\n",
              "      <td>0</td>\n",
              "      <td>0</td>\n",
              "      <td>3</td>\n",
              "      <td>2</td>\n",
              "      <td>...</td>\n",
              "      <td>3</td>\n",
              "      <td>0</td>\n",
              "      <td>0</td>\n",
              "      <td>0</td>\n",
              "      <td>0</td>\n",
              "      <td>0</td>\n",
              "      <td>3</td>\n",
              "      <td>0</td>\n",
              "      <td>40</td>\n",
              "      <td>1</td>\n",
              "    </tr>\n",
              "    <tr>\n",
              "      <th>4</th>\n",
              "      <td>2</td>\n",
              "      <td>3</td>\n",
              "      <td>2</td>\n",
              "      <td>2</td>\n",
              "      <td>2</td>\n",
              "      <td>2</td>\n",
              "      <td>0</td>\n",
              "      <td>2</td>\n",
              "      <td>0</td>\n",
              "      <td>0</td>\n",
              "      <td>...</td>\n",
              "      <td>2</td>\n",
              "      <td>3</td>\n",
              "      <td>2</td>\n",
              "      <td>3</td>\n",
              "      <td>0</td>\n",
              "      <td>0</td>\n",
              "      <td>2</td>\n",
              "      <td>3</td>\n",
              "      <td>45</td>\n",
              "      <td>3</td>\n",
              "    </tr>\n",
              "    <tr>\n",
              "      <th>...</th>\n",
              "      <td>...</td>\n",
              "      <td>...</td>\n",
              "      <td>...</td>\n",
              "      <td>...</td>\n",
              "      <td>...</td>\n",
              "      <td>...</td>\n",
              "      <td>...</td>\n",
              "      <td>...</td>\n",
              "      <td>...</td>\n",
              "      <td>...</td>\n",
              "      <td>...</td>\n",
              "      <td>...</td>\n",
              "      <td>...</td>\n",
              "      <td>...</td>\n",
              "      <td>...</td>\n",
              "      <td>...</td>\n",
              "      <td>...</td>\n",
              "      <td>...</td>\n",
              "      <td>...</td>\n",
              "      <td>...</td>\n",
              "      <td>...</td>\n",
              "    </tr>\n",
              "    <tr>\n",
              "      <th>361</th>\n",
              "      <td>2</td>\n",
              "      <td>1</td>\n",
              "      <td>1</td>\n",
              "      <td>0</td>\n",
              "      <td>1</td>\n",
              "      <td>0</td>\n",
              "      <td>0</td>\n",
              "      <td>0</td>\n",
              "      <td>0</td>\n",
              "      <td>0</td>\n",
              "      <td>...</td>\n",
              "      <td>0</td>\n",
              "      <td>0</td>\n",
              "      <td>1</td>\n",
              "      <td>0</td>\n",
              "      <td>0</td>\n",
              "      <td>0</td>\n",
              "      <td>2</td>\n",
              "      <td>0</td>\n",
              "      <td>25</td>\n",
              "      <td>4</td>\n",
              "    </tr>\n",
              "    <tr>\n",
              "      <th>362</th>\n",
              "      <td>3</td>\n",
              "      <td>2</td>\n",
              "      <td>1</td>\n",
              "      <td>0</td>\n",
              "      <td>1</td>\n",
              "      <td>0</td>\n",
              "      <td>0</td>\n",
              "      <td>0</td>\n",
              "      <td>0</td>\n",
              "      <td>0</td>\n",
              "      <td>...</td>\n",
              "      <td>1</td>\n",
              "      <td>0</td>\n",
              "      <td>1</td>\n",
              "      <td>0</td>\n",
              "      <td>0</td>\n",
              "      <td>0</td>\n",
              "      <td>2</td>\n",
              "      <td>0</td>\n",
              "      <td>36</td>\n",
              "      <td>4</td>\n",
              "    </tr>\n",
              "    <tr>\n",
              "      <th>363</th>\n",
              "      <td>3</td>\n",
              "      <td>2</td>\n",
              "      <td>2</td>\n",
              "      <td>2</td>\n",
              "      <td>3</td>\n",
              "      <td>2</td>\n",
              "      <td>0</td>\n",
              "      <td>2</td>\n",
              "      <td>0</td>\n",
              "      <td>0</td>\n",
              "      <td>...</td>\n",
              "      <td>0</td>\n",
              "      <td>3</td>\n",
              "      <td>0</td>\n",
              "      <td>3</td>\n",
              "      <td>0</td>\n",
              "      <td>0</td>\n",
              "      <td>2</td>\n",
              "      <td>3</td>\n",
              "      <td>28</td>\n",
              "      <td>3</td>\n",
              "    </tr>\n",
              "    <tr>\n",
              "      <th>364</th>\n",
              "      <td>2</td>\n",
              "      <td>1</td>\n",
              "      <td>3</td>\n",
              "      <td>1</td>\n",
              "      <td>2</td>\n",
              "      <td>3</td>\n",
              "      <td>0</td>\n",
              "      <td>2</td>\n",
              "      <td>0</td>\n",
              "      <td>0</td>\n",
              "      <td>...</td>\n",
              "      <td>0</td>\n",
              "      <td>2</td>\n",
              "      <td>0</td>\n",
              "      <td>1</td>\n",
              "      <td>0</td>\n",
              "      <td>0</td>\n",
              "      <td>2</td>\n",
              "      <td>3</td>\n",
              "      <td>50</td>\n",
              "      <td>3</td>\n",
              "    </tr>\n",
              "    <tr>\n",
              "      <th>365</th>\n",
              "      <td>3</td>\n",
              "      <td>2</td>\n",
              "      <td>2</td>\n",
              "      <td>0</td>\n",
              "      <td>0</td>\n",
              "      <td>0</td>\n",
              "      <td>0</td>\n",
              "      <td>0</td>\n",
              "      <td>3</td>\n",
              "      <td>3</td>\n",
              "      <td>...</td>\n",
              "      <td>2</td>\n",
              "      <td>0</td>\n",
              "      <td>0</td>\n",
              "      <td>0</td>\n",
              "      <td>0</td>\n",
              "      <td>0</td>\n",
              "      <td>3</td>\n",
              "      <td>0</td>\n",
              "      <td>35</td>\n",
              "      <td>1</td>\n",
              "    </tr>\n",
              "  </tbody>\n",
              "</table>\n",
              "<p>366 rows × 35 columns</p>\n",
              "</div>\n",
              "      <button class=\"colab-df-convert\" onclick=\"convertToInteractive('df-e0be0eb8-2396-40c1-8211-d2abffd49933')\"\n",
              "              title=\"Convert this dataframe to an interactive table.\"\n",
              "              style=\"display:none;\">\n",
              "        \n",
              "  <svg xmlns=\"http://www.w3.org/2000/svg\" height=\"24px\"viewBox=\"0 0 24 24\"\n",
              "       width=\"24px\">\n",
              "    <path d=\"M0 0h24v24H0V0z\" fill=\"none\"/>\n",
              "    <path d=\"M18.56 5.44l.94 2.06.94-2.06 2.06-.94-2.06-.94-.94-2.06-.94 2.06-2.06.94zm-11 1L8.5 8.5l.94-2.06 2.06-.94-2.06-.94L8.5 2.5l-.94 2.06-2.06.94zm10 10l.94 2.06.94-2.06 2.06-.94-2.06-.94-.94-2.06-.94 2.06-2.06.94z\"/><path d=\"M17.41 7.96l-1.37-1.37c-.4-.4-.92-.59-1.43-.59-.52 0-1.04.2-1.43.59L10.3 9.45l-7.72 7.72c-.78.78-.78 2.05 0 2.83L4 21.41c.39.39.9.59 1.41.59.51 0 1.02-.2 1.41-.59l7.78-7.78 2.81-2.81c.8-.78.8-2.07 0-2.86zM5.41 20L4 18.59l7.72-7.72 1.47 1.35L5.41 20z\"/>\n",
              "  </svg>\n",
              "      </button>\n",
              "      \n",
              "  <style>\n",
              "    .colab-df-container {\n",
              "      display:flex;\n",
              "      flex-wrap:wrap;\n",
              "      gap: 12px;\n",
              "    }\n",
              "\n",
              "    .colab-df-convert {\n",
              "      background-color: #E8F0FE;\n",
              "      border: none;\n",
              "      border-radius: 50%;\n",
              "      cursor: pointer;\n",
              "      display: none;\n",
              "      fill: #1967D2;\n",
              "      height: 32px;\n",
              "      padding: 0 0 0 0;\n",
              "      width: 32px;\n",
              "    }\n",
              "\n",
              "    .colab-df-convert:hover {\n",
              "      background-color: #E2EBFA;\n",
              "      box-shadow: 0px 1px 2px rgba(60, 64, 67, 0.3), 0px 1px 3px 1px rgba(60, 64, 67, 0.15);\n",
              "      fill: #174EA6;\n",
              "    }\n",
              "\n",
              "    [theme=dark] .colab-df-convert {\n",
              "      background-color: #3B4455;\n",
              "      fill: #D2E3FC;\n",
              "    }\n",
              "\n",
              "    [theme=dark] .colab-df-convert:hover {\n",
              "      background-color: #434B5C;\n",
              "      box-shadow: 0px 1px 3px 1px rgba(0, 0, 0, 0.15);\n",
              "      filter: drop-shadow(0px 1px 2px rgba(0, 0, 0, 0.3));\n",
              "      fill: #FFFFFF;\n",
              "    }\n",
              "  </style>\n",
              "\n",
              "      <script>\n",
              "        const buttonEl =\n",
              "          document.querySelector('#df-e0be0eb8-2396-40c1-8211-d2abffd49933 button.colab-df-convert');\n",
              "        buttonEl.style.display =\n",
              "          google.colab.kernel.accessAllowed ? 'block' : 'none';\n",
              "\n",
              "        async function convertToInteractive(key) {\n",
              "          const element = document.querySelector('#df-e0be0eb8-2396-40c1-8211-d2abffd49933');\n",
              "          const dataTable =\n",
              "            await google.colab.kernel.invokeFunction('convertToInteractive',\n",
              "                                                     [key], {});\n",
              "          if (!dataTable) return;\n",
              "\n",
              "          const docLinkHtml = 'Like what you see? Visit the ' +\n",
              "            '<a target=\"_blank\" href=https://colab.research.google.com/notebooks/data_table.ipynb>data table notebook</a>'\n",
              "            + ' to learn more about interactive tables.';\n",
              "          element.innerHTML = '';\n",
              "          dataTable['output_type'] = 'display_data';\n",
              "          await google.colab.output.renderOutput(dataTable, element);\n",
              "          const docLink = document.createElement('div');\n",
              "          docLink.innerHTML = docLinkHtml;\n",
              "          element.appendChild(docLink);\n",
              "        }\n",
              "      </script>\n",
              "    </div>\n",
              "  </div>\n",
              "  "
            ]
          },
          "metadata": {},
          "execution_count": 4
        }
      ],
      "source": [
        "# Load dataset\n",
        "df = pd.read_csv(\"dermatology.data\", header=None)\n",
        "df.replace('?', np.NaN, inplace=True)\n",
        "df"
      ]
    },
    {
      "cell_type": "markdown",
      "metadata": {
        "id": "axQI-kd72tkH"
      },
      "source": [
        "Μετατρέπουμε το dataframe σε np.array και παίρνουμε τα features και τα labels αντίστοιχα."
      ]
    },
    {
      "cell_type": "code",
      "execution_count": null,
      "metadata": {
        "id": "h3x1_7tO1GyD"
      },
      "outputs": [],
      "source": [
        "# convert dataframe to np.array\n",
        "data = np.array(df)\n",
        "features = data[:, :-1]\n",
        "labels = data[:, -1]"
      ]
    },
    {
      "cell_type": "markdown",
      "metadata": {
        "id": "kO3FDec2RAB9"
      },
      "source": [
        "Παίρνουμε το πλήθος των δειγμάτων ανά κλάση και έπειτα τη συχνότητα εμφάνισής τους στο dataset:"
      ]
    },
    {
      "cell_type": "code",
      "execution_count": null,
      "metadata": {
        "colab": {
          "base_uri": "https://localhost:8080/"
        },
        "id": "HNwu8we6P_BG",
        "outputId": "ba7213e7-1038-47a5-ce04-7feb795b2bdf"
      },
      "outputs": [
        {
          "output_type": "stream",
          "name": "stdout",
          "text": [
            "frequencies: [112  61  72  49  52  20]\n",
            "f1 [0.30601093], f2 [0.16666667], f3 [0.19672131], f4 [0.13387978], f5 [0.1420765], f6 [0.05464481]\n"
          ]
        }
      ],
      "source": [
        "labels = labels.astype(int)\n",
        "print(\"frequencies:\", np.bincount(labels)[1:])\n",
        "\n",
        "freq = []\n",
        "for i in range(1,7):\n",
        "  freq.append(np.bincount(labels)[i]/labels.shape)\n",
        "print(\"f1 {}, f2 {}, f3 {}, f4 {}, f5 {}, f6 {}\".format(freq[0], freq[1], freq[2], freq[3], freq[4], freq[5]))"
      ]
    },
    {
      "cell_type": "markdown",
      "metadata": {
        "id": "whFRNjeBQ9HO"
      },
      "source": [
        "##Data split and preprocessing:"
      ]
    },
    {
      "cell_type": "markdown",
      "metadata": {
        "id": "D-9Pcm3a3CWk"
      },
      "source": [
        "Διαχωρίζουμε το dataset σε train (70%) και test (30%) sets ώστε να πραγματοποιηθεί η εκπαίδευση των ταξινομητών. <br>\n",
        "Όπως αναφέρεται και παραπάνω, υπάρχουν απουσιάζουσες τιμές στο σύνολο δεδομένων, συνεπώς θα πρέπει να επιλυθεί το ζήτημα αυτό για το training set (στο test set δε μπορούμε να επέμβουμε επειδή θα χρησιμοποιηθεί για τη γενίκευση του μοντέλου). Θα μπορούσαμε να διαγράψουμε τις γραμμές που εμπεριέχουν μια άδεια τιμή (εδώ συμβολίζεται με '?'), καθώς είναι μικρός ο αριθμός τους μπροστά στο σύνολο του dataset. Παρόλα αυτά, κρίνουμε καλύτερη επιλογή να προσθέσουμε τιμή στα κελιά με missing values ίση με τη μέση τιμή των υπόλοιπων συμπληρωμένων κελιών σε αυτό το χαρακτηριστικό. Εδώ συγκεκριμένα, γίνεται χρήση του SimpleImputer της βιβλιοθήκης sklearn. Πιο αναλυτικά, στο training set μόνο, στο πεδίο της ηλικίας, όπου λείπει η ηλικία για κάποια εγγραφή θα βάλουμε το μέσο όρο όλων των ηλικιών του training set. Έπειτα, κρατάμε την τιμή του μέσου όρου αυτού και τη βάζουμε στις απουσιάζουσες τιμές του test set (transform method). Με αυτό τον τρόπο συπληρώσαμε τα missing values τόσο στο training set όσο και στο test set χωρίς όμως να αξιοποιήσουμε πληροφορία από το test set (καθώς αυτό αντιβαίνει στις αμερόληπτες πρακτικές εκπαίδευσης)."
      ]
    },
    {
      "cell_type": "code",
      "execution_count": null,
      "metadata": {
        "id": "F-uv4EbwQyuQ"
      },
      "outputs": [],
      "source": [
        "x_train, x_test, y_train, y_test = train_test_split(features, labels, test_size=0.3)\n",
        "\n",
        "imp = SimpleImputer(missing_values=np.NaN, strategy='mean')\n",
        "imp.fit(x_train)\n",
        "x_train = imp.transform(x_train)\n",
        "x_test = imp.transform(x_test)\n",
        "\n",
        "y_train = y_train.astype(np.uint8)\n",
        "y_test = y_test.astype(np.uint8)"
      ]
    },
    {
      "cell_type": "markdown",
      "metadata": {
        "id": "mi248hg79Tp_"
      },
      "source": [
        "Αρχικοποιούμε κάποιους transormers για να βελτιστοποιήσπυμε τις υπερπαραμέτρους των παρακάτων μοντέλων.\n",
        "\n",
        "* **selector:** Χρησιμοποιήσουμε τη συνάρτηση VarianceThreshold για να αφαιρέσουμε τα χαρακτηριστικά στο training set που έχουν μηδενική διακύμανση (default) ή πολύ χαμηλή. <br>\n",
        "* **scaler:** Χρησιμοποιούμε τον StandardScaler για κανονικοποίηση χαρακτηρηστικών, ακολουθώντας κανονική κατανομή N(0, 1)<br>\n",
        "\n",
        "* **ros:** Χρησιμοποιούμε τον RandomOverSampler για την εξισορρόπηση του dataset<br>\n",
        "* **pca:** Χρησιμοποιύμε τη μέθοδο PCA με εξαγωγή νέων χαρακτηριστικών για τη μείωση των διαστάσεων"
      ]
    },
    {
      "cell_type": "code",
      "execution_count": null,
      "metadata": {
        "id": "pf1W1qaT5kV3"
      },
      "outputs": [],
      "source": [
        "# initialize transformers with default values\n",
        "selector = VarianceThreshold()\n",
        "scaler = StandardScaler()\n",
        "ros = RandomOverSampler()\n",
        "pca = PCA()"
      ]
    },
    {
      "cell_type": "markdown",
      "metadata": {
        "id": "bJUFopVhHOVd"
      },
      "source": [
        "Παίρνουμε μια ιδέα για το variance στο train set, έτσι ώστε να μπορέσουμε στη συνέχεια να ορίσουμε τον πίνακα v_threshold με λογικές τιμές προκειμένου να έχουμε καλύτερα αποτελέσματα."
      ]
    },
    {
      "cell_type": "code",
      "execution_count": null,
      "metadata": {
        "colab": {
          "base_uri": "https://localhost:8080/"
        },
        "id": "gzfr5r-J879o",
        "outputId": "fd44df54-8fb0-4e00-db40-afdc75e70973"
      },
      "outputs": [
        {
          "output_type": "stream",
          "name": "stdout",
          "text": [
            "[4.28085327e-01 4.72030640e-01 7.88925171e-01 1.23022461e+00\n",
            " 8.74023438e-01 8.87634277e-01 3.14193726e-01 6.97204590e-01\n",
            " 9.90173340e-01 8.12484741e-01 9.43450928e-02 7.32650757e-01\n",
            " 1.48437500e-01 6.38046265e-01 7.07458496e-01 1.23887634e+00\n",
            " 4.81384277e-01 5.76889038e-01 8.10531616e-01 1.12933350e+00\n",
            " 1.41722107e+00 1.05468750e+00 4.89730835e-01 5.51620483e-01\n",
            " 7.07626343e-01 6.75277710e-01 8.72421265e-01 1.28686523e+00\n",
            " 8.72009277e-01 1.67709351e-01 2.34970093e-01 5.73974609e-01\n",
            " 1.28295898e+00 2.25119516e+02]\n",
            "1.4172210693359375\n"
          ]
        }
      ],
      "source": [
        "# Print out variance of features\n",
        "train_variance = x_train.var(axis=0)\n",
        "print(train_variance)\n",
        "print(np.max(train_variance[:-1]))"
      ]
    },
    {
      "cell_type": "markdown",
      "metadata": {
        "id": "TcWNZdSbEq2d"
      },
      "source": [
        "##Ταξινόμηση"
      ]
    },
    {
      "cell_type": "markdown",
      "metadata": {
        "id": "ffjjC0NmQ2Bb"
      },
      "source": [
        "###Dummy Classifier:"
      ]
    },
    {
      "cell_type": "markdown",
      "metadata": {
        "id": "Dgf9242rBJiz"
      },
      "source": [
        "Δοκιμάζουμε πρώτα κάποιες πολύ απλές τακτικές ταξινόμησης. Η κλάση DummyClassifier δέχεται μια παράμετρο που καθορίζει την τακτική της ταξινόμησης ως εξής:\n",
        "* “uniform”: προβλέπει τυχαία και ομοιόμορφα.\n",
        "* “constant”: προβλέπει πάντα μία κατηγορία που τη διαλέγει ο χρήστης.\n",
        "* “most_frequent”: προβλέπει πάντα την πιο συχνή κατηγορία στο training set.\n",
        "* “stratified”: κάνει προβλέψεις διατηρώντας την κατανομή των κλάσεων στο training set."
      ]
    },
    {
      "cell_type": "code",
      "source": [
        "# define accuracy and f1-score dictionaries\n",
        "acc = {}\n",
        "f1 = {}"
      ],
      "metadata": {
        "id": "W9lF0zUf6Ywe"
      },
      "execution_count": null,
      "outputs": []
    },
    {
      "cell_type": "code",
      "execution_count": null,
      "metadata": {
        "colab": {
          "base_uri": "https://localhost:8080/"
        },
        "id": "EO5VT28EAPm_",
        "outputId": "89ec09a7-a1f7-4cea-d049-ca262cc60955"
      },
      "outputs": [
        {
          "output_type": "stream",
          "name": "stdout",
          "text": [
            "Accuracy:\n",
            "uniform (random): 0.1604615384615385\n",
            "constant 1: 0.3006153846153846\n",
            "constant 2: 0.1913846153846154\n",
            "most frequent label: 0.3006153846153846\n",
            "stratified: 0.16769230769230767\n",
            "\n",
            "F1-score:\n",
            "uniform (random): 0.1260056419615243\n",
            "constant 1: 0.07701463161021985\n",
            "constant 2: 0.053522432332220995\n",
            "most frequent label: 0.07701463161021985\n",
            "stratified: 0.15308258448351328\n"
          ]
        }
      ],
      "source": [
        "dc_uniform = DummyClassifier(strategy=\"uniform\")\n",
        "dc_constant_1 = DummyClassifier(strategy=\"constant\", constant=1)\n",
        "dc_constant_2 = DummyClassifier(strategy=\"constant\", constant=2)\n",
        "dc_most_frequent = DummyClassifier(strategy=\"most_frequent\")\n",
        "dc_stratified = DummyClassifier(strategy=\"stratified\")\n",
        "\n",
        "acc['uniform (random)'] = cross_val_score(dc_uniform, x_train, y_train, cv=10, scoring='accuracy')\n",
        "f1['uniform (random)'] = cross_val_score(dc_uniform, x_train, y_train, cv=10, scoring='f1_macro')\n",
        "acc['constant 1'] = cross_val_score(dc_constant_1, x_train, y_train, cv=10, scoring='accuracy')\n",
        "f1['constant 1'] = cross_val_score(dc_constant_1, x_train, y_train, cv=10, scoring='f1_macro')\n",
        "acc['constant 2'] = cross_val_score(dc_constant_2, x_train, y_train, cv=10, scoring='accuracy')\n",
        "f1['constant 2'] = cross_val_score(dc_constant_2, x_train, y_train, cv=10, scoring='f1_macro')\n",
        "acc['most frequent label'] = cross_val_score(dc_most_frequent, x_train, y_train, cv=10, scoring='accuracy')\n",
        "f1['most frequent label'] = cross_val_score(dc_most_frequent, x_train, y_train, cv=10, scoring='f1_macro')\n",
        "acc['stratified'] = cross_val_score(dc_stratified, x_train, y_train, cv=10, scoring='accuracy')\n",
        "f1['stratified'] = cross_val_score(dc_stratified, x_train, y_train, cv=10, scoring='f1_macro')\n",
        "\n",
        "print(\"Accuracy:\")\n",
        "for a in acc.keys():\n",
        "  print(\"{}: {}\".format(a, np.mean(acc[a])))\n",
        "\n",
        "print(\"\\nF1-score:\")\n",
        "for f in f1.keys():\n",
        "  print(\"{}: {}\".format(f, np.mean(f1[f])))"
      ]
    },
    {
      "cell_type": "markdown",
      "metadata": {
        "id": "ibVKSW6_RFWN"
      },
      "source": [
        "###Gaussian Naive Bayes Classifier:"
      ]
    },
    {
      "cell_type": "markdown",
      "metadata": {
        "id": "_u5kba6QF5bX"
      },
      "source": [
        "Αρχικά γίνεται χρήση του gaussian naive bayes out-of-the-box, δηλαδή με τις default παραμέτρους. Στη συνέχεια, με τη χρήση pipeline των transformer που αναφέρθηκαν παραπάνω, επιδιώκουμε την εύρεση των βέλτιστων υπερπαραμέτρων για τη μεγιστοποίηση του accuracy και του f1 score ξεχωριστά."
      ]
    },
    {
      "cell_type": "markdown",
      "metadata": {
        "id": "JWMHsFaERKbR"
      },
      "source": [
        "####Out-of-the-box:"
      ]
    },
    {
      "cell_type": "code",
      "execution_count": null,
      "metadata": {
        "colab": {
          "base_uri": "https://localhost:8080/"
        },
        "id": "SLZGhTM0RIHT",
        "outputId": "cb042d81-b8b7-4905-a39c-23d838755791"
      },
      "outputs": [
        {
          "output_type": "stream",
          "name": "stdout",
          "text": [
            "Total time for fit and predict: 0.003738880157470703 seconds\n",
            "\n",
            "Gaussian Naive Bayes out-of-the-box performance:\n",
            "              precision    recall  f1-score   support\n",
            "\n",
            "           1       1.00      1.00      1.00        35\n",
            "           2       0.88      0.58      0.70        12\n",
            "           3       0.91      1.00      0.95        21\n",
            "           4       0.80      0.84      0.82        19\n",
            "           5       0.94      1.00      0.97        15\n",
            "           6       1.00      1.00      1.00         8\n",
            "\n",
            "    accuracy                           0.93       110\n",
            "   macro avg       0.92      0.90      0.91       110\n",
            "weighted avg       0.93      0.93      0.92       110\n",
            "\n"
          ]
        }
      ],
      "source": [
        "gnb_ootb = GaussianNB()\n",
        "start_time = time.time()\n",
        "gnb_ootb.fit(x_train, y_train)\n",
        "gnb_ootb_preds = gnb_ootb.predict(x_test)\n",
        "gnb_ootb_time = time.time() - start_time\n",
        "print(\"Total time for fit and predict: %s seconds\" % (gnb_ootb_time))\n",
        "gnb_ootb_acc = accuracy_score(y_test, gnb_ootb_preds)\n",
        "gnb_ootb_f1 = f1_score(y_test, gnb_ootb_preds, average = 'macro')\n",
        "print(\"\\nGaussian Naive Bayes out-of-the-box performance:\")\n",
        "print(classification_report(y_test, gnb_ootb_preds))"
      ]
    },
    {
      "cell_type": "markdown",
      "metadata": {
        "id": "yw9UrmKpRMUu"
      },
      "source": [
        "####Tuned:"
      ]
    },
    {
      "cell_type": "code",
      "execution_count": null,
      "metadata": {
        "id": "R4TXPGkcW1nY"
      },
      "outputs": [],
      "source": [
        "vthreshold = [0, 0.1, 0.2, 0.3, 0.4]\n",
        "n_components = [5, 10, 15, 20, 25, 30, 33]\n",
        "\n",
        "gnb = GaussianNB()\n",
        "\n",
        "pipe_gnb = Pipeline(steps=[('selector', selector),  ('scaler', scaler), ('sampler', ros), ('pca', pca), ('gnb', gnb)], memory = 'tmp')"
      ]
    },
    {
      "cell_type": "markdown",
      "metadata": {
        "id": "ct7Ue7BRWpzo"
      },
      "source": [
        "* Optimal f1 score:"
      ]
    },
    {
      "cell_type": "code",
      "execution_count": null,
      "metadata": {
        "colab": {
          "base_uri": "https://localhost:8080/"
        },
        "id": "ca3LFQR2RR5q",
        "outputId": "5bdb4b9b-9687-4810-c2dc-2349f6557004"
      },
      "outputs": [
        {
          "output_type": "stream",
          "name": "stdout",
          "text": [
            "              precision    recall  f1-score   support\n",
            "\n",
            "           1       1.00      1.00      1.00        35\n",
            "           2       0.69      0.92      0.79        12\n",
            "           3       1.00      1.00      1.00        21\n",
            "           4       0.93      0.74      0.82        19\n",
            "           5       1.00      1.00      1.00        15\n",
            "           6       1.00      1.00      1.00         8\n",
            "\n",
            "    accuracy                           0.95       110\n",
            "   macro avg       0.94      0.94      0.93       110\n",
            "weighted avg       0.95      0.95      0.95       110\n",
            "\n",
            "Total time for fit and predict: 0.02342510223388672 seconds\n",
            "\n",
            "Gaussian Naive Bayes tuned for optimal f1 performance:\n",
            "{'pca__n_components': 20, 'selector__threshold': 0.2}\n"
          ]
        }
      ],
      "source": [
        "gnb_optimal_f1 = GridSearchCV(pipe_gnb, dict(selector__threshold=vthreshold, pca__n_components=n_components), cv=10, scoring='f1_macro', n_jobs=-1)\n",
        "gnb_optimal_f1.fit(x_train, y_train)\n",
        "gnb_optimal_f1_time = gnb_optimal_f1.refit_time_\n",
        "\n",
        "start_time = time.time()\n",
        "gnb_preds_f1 = gnb_optimal_f1.predict(x_test)\n",
        "gnb_optimal_f1_time += start_time - time.time()\n",
        "\n",
        "gnb_optimalf1_acc = accuracy_score(y_test, gnb_preds_f1)\n",
        "gnb_optimalf1_f1 = f1_score(y_test, gnb_preds_f1, average = 'macro')\n",
        "print(classification_report(y_test, gnb_preds_f1))\n",
        "\n",
        "print(\"Total time for fit and predict: %s seconds\" % (gnb_optimal_f1_time))\n",
        "\n",
        "print(\"\\nGaussian Naive Bayes tuned for optimal f1 performance:\")\n",
        "print(gnb_optimal_f1.best_params_)"
      ]
    },
    {
      "cell_type": "markdown",
      "metadata": {
        "id": "vQquorAJWtyX"
      },
      "source": [
        "* Optimal accuracy:"
      ]
    },
    {
      "cell_type": "code",
      "execution_count": null,
      "metadata": {
        "colab": {
          "base_uri": "https://localhost:8080/"
        },
        "id": "WPNYqe_hWv30",
        "outputId": "ffdc5b8c-58bd-43bd-c207-f927573bfa9d"
      },
      "outputs": [
        {
          "output_type": "stream",
          "name": "stdout",
          "text": [
            "              precision    recall  f1-score   support\n",
            "\n",
            "           1       1.00      1.00      1.00        35\n",
            "           2       0.69      0.92      0.79        12\n",
            "           3       1.00      1.00      1.00        21\n",
            "           4       0.93      0.74      0.82        19\n",
            "           5       1.00      1.00      1.00        15\n",
            "           6       1.00      1.00      1.00         8\n",
            "\n",
            "    accuracy                           0.95       110\n",
            "   macro avg       0.94      0.94      0.93       110\n",
            "weighted avg       0.95      0.95      0.95       110\n",
            "\n",
            "Total time for fit and predict: 0.007067680358886719 seconds\n",
            "\n",
            "Gaussian Naive Bayes tuned for optimal accuracy performance:\n",
            "{'pca__n_components': 20, 'selector__threshold': 0.2}\n"
          ]
        }
      ],
      "source": [
        "gnb_optimal_acc = GridSearchCV(pipe_gnb, dict(selector__threshold=vthreshold, pca__n_components=n_components), cv=10, scoring='accuracy', n_jobs=-1)\n",
        "gnb_optimal_acc.fit(x_train, y_train)\n",
        "gnb_optimal_acc_time = gnb_optimal_acc.refit_time_\n",
        "\n",
        "start_time = time.time()\n",
        "gnb_preds_acc = gnb_optimal_acc.predict(x_test)\n",
        "gnb_optimal_acc_time += start_time - time.time()\n",
        "\n",
        "gnb_optimalacc_acc = accuracy_score(y_test, gnb_preds_acc)\n",
        "gnb_optimalacc_f1 = f1_score(y_test, gnb_preds_acc, average = 'macro')\n",
        "print(classification_report(y_test, gnb_preds_acc))\n",
        "\n",
        "print(\"Total time for fit and predict: %s seconds\" % (gnb_optimal_acc_time))\n",
        "\n",
        "print(\"\\nGaussian Naive Bayes tuned for optimal accuracy performance:\")\n",
        "print(gnb_optimal_acc.best_params_)"
      ]
    },
    {
      "cell_type": "markdown",
      "source": [
        "**Παρατηρήσεις**<br>\n",
        "Στις δύο υλοποιήσεις (μία για βελτιστοποίηση του f1 score και μια για βελτιστοποίηση του accuracy) οι υπερπαράμετροι που προκύπτουν ως βέλτιστες είναι συνήθως ίδιες."
      ],
      "metadata": {
        "id": "-8NDbu5QhrwJ"
      }
    },
    {
      "cell_type": "markdown",
      "metadata": {
        "id": "fJ6p26AbRV_A"
      },
      "source": [
        "###k Nearest Neighbors:"
      ]
    },
    {
      "cell_type": "markdown",
      "source": [
        "Στην συνέχεια κάνουμε το ίδιο όπως και με τον GNB, αλλά αυτή την φορά χρησιμοποιόντας kNN. Πρώτα υλοποιούμε τον out of the box και μετά με pipeline τον βελτιστοποιούμε. "
      ],
      "metadata": {
        "id": "5aKhwP3oC7cc"
      }
    },
    {
      "cell_type": "markdown",
      "metadata": {
        "id": "TQiWxT6sRaK1"
      },
      "source": [
        "####Out-of-the-box:"
      ]
    },
    {
      "cell_type": "code",
      "execution_count": null,
      "metadata": {
        "colab": {
          "base_uri": "https://localhost:8080/"
        },
        "id": "YCJiFYsjRcSG",
        "outputId": "9c6037cb-77b7-4690-f2be-6883f5a353a4"
      },
      "outputs": [
        {
          "output_type": "stream",
          "name": "stdout",
          "text": [
            "Total time for fit and predict: 0.008265018463134766 seconds\n",
            "\n",
            "k Nearest Neighbors out-of-the-box performance:\n",
            "              precision    recall  f1-score   support\n",
            "\n",
            "           1       0.94      0.94      0.94        35\n",
            "           2       0.53      0.83      0.65        12\n",
            "           3       1.00      1.00      1.00        21\n",
            "           4       0.89      0.42      0.57        19\n",
            "           5       0.82      0.93      0.87        15\n",
            "           6       0.89      1.00      0.94         8\n",
            "\n",
            "    accuracy                           0.85       110\n",
            "   macro avg       0.85      0.86      0.83       110\n",
            "weighted avg       0.88      0.85      0.85       110\n",
            "\n"
          ]
        }
      ],
      "source": [
        "knn_ootb = KNeighborsClassifier()\n",
        "start_time = time.time()\n",
        "knn_ootb.fit(x_train, y_train)\n",
        "knn_ootb_preds = knn_ootb.predict(x_test)\n",
        "knn_ootb_time = time.time() - start_time\n",
        "print(\"Total time for fit and predict: %s seconds\" % (knn_ootb_time))\n",
        "knn_ootb_acc = accuracy_score(y_test, knn_ootb_preds)\n",
        "knn_ootb_f1 = f1_score(y_test, knn_ootb_preds, average = 'macro')\n",
        "print(\"\\nk Nearest Neighbors out-of-the-box performance:\")\n",
        "print(classification_report(y_test, knn_ootb_preds))"
      ]
    },
    {
      "cell_type": "markdown",
      "metadata": {
        "id": "ak42GulcReRd"
      },
      "source": [
        "####Tuned:"
      ]
    },
    {
      "cell_type": "code",
      "execution_count": null,
      "metadata": {
        "id": "T1UoHAuhWfMm"
      },
      "outputs": [],
      "source": [
        "vthreshold = [0, 0.1, 0.2, 0.3, 0.4]\n",
        "n_components = [5, 10, 15, 20, 25, 30, 33]\n",
        "k = list(filter(lambda x: x % 2 != 0, list(range(1,20)))) # odd numbers from 1 to 19\n",
        "\n",
        "knn = KNeighborsClassifier(n_jobs=-1)\n",
        "\n",
        "pipe_knn = Pipeline(steps=[('selector', selector), ('scaler', scaler), ('sampler', ros), ('pca', pca), ('kNN', knn)], memory = 'tmp')"
      ]
    },
    {
      "cell_type": "markdown",
      "metadata": {
        "id": "E_JlRr5UWWlh"
      },
      "source": [
        "* Optimal f1 score:"
      ]
    },
    {
      "cell_type": "code",
      "execution_count": null,
      "metadata": {
        "id": "QOB9cLoCRfjU",
        "colab": {
          "base_uri": "https://localhost:8080/"
        },
        "outputId": "1ae20fa9-fe94-4780-cc0b-512e45a8bc33"
      },
      "outputs": [
        {
          "output_type": "stream",
          "name": "stdout",
          "text": [
            "              precision    recall  f1-score   support\n",
            "\n",
            "           1       1.00      0.97      0.99        35\n",
            "           2       0.65      0.92      0.76        12\n",
            "           3       1.00      1.00      1.00        21\n",
            "           4       0.93      0.74      0.82        19\n",
            "           5       1.00      1.00      1.00        15\n",
            "           6       1.00      1.00      1.00         8\n",
            "\n",
            "    accuracy                           0.94       110\n",
            "   macro avg       0.93      0.94      0.93       110\n",
            "weighted avg       0.95      0.94      0.94       110\n",
            "\n",
            "Total time for fit and predict: 0.13133764266967773 seconds\n",
            "\n",
            "k Nearest Neighbors tuned for optimal f1 performance:\n",
            "{'kNN__n_neighbors': 1, 'pca__n_components': 33, 'selector__threshold': 0.1}\n"
          ]
        }
      ],
      "source": [
        "knn_optimal_f1 = GridSearchCV(pipe_knn, dict(selector__threshold=vthreshold, pca__n_components=n_components, kNN__n_neighbors=k), cv=10, scoring='f1_macro', n_jobs=-1)\n",
        "knn_optimal_f1.fit(x_train, y_train)\n",
        "knn_optimal_f1_time = knn_optimal_f1.refit_time_\n",
        "\n",
        "start_time = time.time()\n",
        "knn_preds_f1 = knn_optimal_f1.predict(x_test)\n",
        "knn_optimal_f1_time +=time.time()-start_time \n",
        "\n",
        "knn_optimalf1_acc = accuracy_score(y_test, knn_preds_f1)\n",
        "knn_optimalf1_f1 = f1_score(y_test, knn_preds_f1, average = 'macro')\n",
        "print(classification_report(y_test, knn_preds_f1))\n",
        "\n",
        "print(\"Total time for fit and predict: %s seconds\" % (knn_optimal_f1_time))\n",
        "\n",
        "print(\"\\nk Nearest Neighbors tuned for optimal f1 performance:\")\n",
        "print(knn_optimal_f1.best_params_)"
      ]
    },
    {
      "cell_type": "markdown",
      "metadata": {
        "id": "5HlCujrKWZX9"
      },
      "source": [
        "* Optimal accuracy:"
      ]
    },
    {
      "cell_type": "code",
      "execution_count": null,
      "metadata": {
        "colab": {
          "base_uri": "https://localhost:8080/"
        },
        "id": "IIajJ4O4WjY_",
        "outputId": "1ddc9cde-a74b-468b-8ffa-4dc490b661cf"
      },
      "outputs": [
        {
          "output_type": "stream",
          "name": "stdout",
          "text": [
            "              precision    recall  f1-score   support\n",
            "\n",
            "           1       1.00      0.97      0.99        35\n",
            "           2       0.65      0.92      0.76        12\n",
            "           3       1.00      1.00      1.00        21\n",
            "           4       0.93      0.74      0.82        19\n",
            "           5       1.00      1.00      1.00        15\n",
            "           6       1.00      1.00      1.00         8\n",
            "\n",
            "    accuracy                           0.94       110\n",
            "   macro avg       0.93      0.94      0.93       110\n",
            "weighted avg       0.95      0.94      0.94       110\n",
            "\n",
            "Total time for fit and predict: 0.11343717575073242 seconds\n",
            "\n",
            "k Nearest Neighbors tuned for optimal accuracy performance:\n",
            "{'kNN__n_neighbors': 1, 'pca__n_components': 33, 'selector__threshold': 0.1}\n"
          ]
        }
      ],
      "source": [
        "knn_optimal_acc = GridSearchCV(pipe_knn, dict(selector__threshold=vthreshold, pca__n_components=n_components, kNN__n_neighbors=k), cv=10, scoring='accuracy', n_jobs=-1)\n",
        "knn_optimal_acc.fit(x_train, y_train)\n",
        "knn_optimal_acc_time = knn_optimal_acc.refit_time_\n",
        "\n",
        "start_time = time.time()\n",
        "knn_preds_acc = knn_optimal_acc.predict(x_test)\n",
        "knn_optimal_acc_time += time.time()-start_time \n",
        "\n",
        "knn_optimalacc_acc = accuracy_score(y_test, knn_preds_acc)\n",
        "knn_optimalacc_f1 = f1_score(y_test, knn_preds_acc, average = 'macro')\n",
        "print(classification_report(y_test, knn_preds_acc))\n",
        "\n",
        "print(\"Total time for fit and predict: %s seconds\" % (knn_optimal_acc_time))\n",
        "\n",
        "print(\"\\nk Nearest Neighbors tuned for optimal accuracy performance:\")\n",
        "print(knn_optimal_acc.best_params_)"
      ]
    },
    {
      "cell_type": "markdown",
      "source": [
        "**Παρατηρήσεις**<br>\n",
        "Στις δύο υλοποιήσεις (μία για βελτιστοποίηση του f1 score και μια για βελτιστοποίηση του accuracy) οι υπερπαράμετροι που προκύπτουν ως βέλτιστες είναι συνήθως ίδιες."
      ],
      "metadata": {
        "id": "7KFSv6QtjPQ8"
      }
    },
    {
      "cell_type": "markdown",
      "metadata": {
        "id": "pTc6ahYzRnKD"
      },
      "source": [
        "###Logistic Regression:"
      ]
    },
    {
      "cell_type": "markdown",
      "source": [
        "Τέλος κάνουμε την ίδια διαδικασία αλλά με υλοποίηση του Logistic Regression."
      ],
      "metadata": {
        "id": "m2ka4D5-DrVS"
      }
    },
    {
      "cell_type": "markdown",
      "metadata": {
        "id": "N7ru5hm1Rp1d"
      },
      "source": [
        "####Out-of-the-box:"
      ]
    },
    {
      "cell_type": "code",
      "execution_count": null,
      "metadata": {
        "colab": {
          "base_uri": "https://localhost:8080/"
        },
        "id": "LWRcqQoJRrbD",
        "outputId": "a1186d06-d8a3-4839-bd1d-8002f748d409"
      },
      "outputs": [
        {
          "output_type": "stream",
          "name": "stdout",
          "text": [
            "Total time for fit and predict: 0.03422665596008301 seconds\n",
            "\n",
            "Logistic Regression out-of-the-box performance:\n",
            "              precision    recall  f1-score   support\n",
            "\n",
            "           1       1.00      1.00      1.00        35\n",
            "           2       0.71      1.00      0.83        12\n",
            "           3       1.00      1.00      1.00        21\n",
            "           4       1.00      0.74      0.85        19\n",
            "           5       1.00      1.00      1.00        15\n",
            "           6       1.00      1.00      1.00         8\n",
            "\n",
            "    accuracy                           0.95       110\n",
            "   macro avg       0.95      0.96      0.95       110\n",
            "weighted avg       0.97      0.95      0.96       110\n",
            "\n"
          ]
        }
      ],
      "source": [
        "lr_ootb = LogisticRegression()\n",
        "start_time = time.time()\n",
        "lr_ootb.fit(x_train, y_train)\n",
        "lr_ootb_preds = lr_ootb.predict(x_test)\n",
        "lr_ootb_time = time.time() - start_time\n",
        "print(\"Total time for fit and predict: %s seconds\" % (lr_ootb_time))\n",
        "lr_ootb_acc = accuracy_score(y_test, lr_ootb_preds)\n",
        "lr_ootb_f1 = f1_score(y_test, lr_ootb_preds, average = 'macro')\n",
        "print(\"\\nLogistic Regression out-of-the-box performance:\")\n",
        "print(classification_report(y_test, lr_ootb_preds))"
      ]
    },
    {
      "cell_type": "markdown",
      "metadata": {
        "id": "sOJGxqboRu7I"
      },
      "source": [
        "####Tuned:"
      ]
    },
    {
      "cell_type": "code",
      "execution_count": null,
      "metadata": {
        "id": "t6PB4HCmWLdc"
      },
      "outputs": [],
      "source": [
        "vthreshold = [0, 0.1, 0.2, 0.3, 0.4]\n",
        "n_components = [5, 10, 15, 20, 25, 30, 33]\n",
        "max_iter = [5, 10, 15, 20, 25, 30]\n",
        "\n",
        "lr = LogisticRegression()\n",
        "\n",
        "pipe_lr = Pipeline(steps=[('selector', selector), ('scaler', scaler), ('sampler', ros), ('pca', pca), ('lr', lr)], memory = 'tmp')"
      ]
    },
    {
      "cell_type": "markdown",
      "metadata": {
        "id": "gOitjKBaV9AJ"
      },
      "source": [
        "* Optimal f1 score:"
      ]
    },
    {
      "cell_type": "code",
      "execution_count": null,
      "metadata": {
        "colab": {
          "base_uri": "https://localhost:8080/"
        },
        "id": "S96a3c9cRv33",
        "outputId": "5f911d20-0a0a-4fde-8497-b17c3fda186e"
      },
      "outputs": [
        {
          "output_type": "stream",
          "name": "stdout",
          "text": [
            "              precision    recall  f1-score   support\n",
            "\n",
            "           1       1.00      1.00      1.00        35\n",
            "           2       0.69      0.92      0.79        12\n",
            "           3       1.00      1.00      1.00        21\n",
            "           4       0.93      0.74      0.82        19\n",
            "           5       1.00      1.00      1.00        15\n",
            "           6       1.00      1.00      1.00         8\n",
            "\n",
            "    accuracy                           0.95       110\n",
            "   macro avg       0.94      0.94      0.93       110\n",
            "weighted avg       0.95      0.95      0.95       110\n",
            "\n",
            "Total time for fit and predict: 0.02413487434387207 seconds\n",
            "\n",
            "Logistic Regression tuned for optimal f1 performance:\n",
            "{'lr__max_iter': 15, 'pca__n_components': 20, 'selector__threshold': 0.1}\n"
          ]
        }
      ],
      "source": [
        "lr_optimal_f1 = GridSearchCV(pipe_lr, dict(selector__threshold=vthreshold, pca__n_components=n_components, lr__max_iter=max_iter), cv=10, scoring='f1_macro', n_jobs=-1)\n",
        "lr_optimal_f1.fit(x_train, y_train)\n",
        "lr_optimal_f1_time = lr_optimal_f1.refit_time_\n",
        "\n",
        "start_time = time.time()\n",
        "lr_preds_f1 =lr_optimal_f1.predict(x_test)\n",
        "lr_optimal_f1_time += start_time - time.time()\n",
        "\n",
        "lr_optimalf1_acc = accuracy_score(y_test, lr_preds_f1)\n",
        "lr_optimalf1_f1 = f1_score(y_test, lr_preds_f1, average = 'macro')\n",
        "print(classification_report(y_test,lr_preds_f1))\n",
        "\n",
        "print(\"Total time for fit and predict: %s seconds\" % (lr_optimal_f1_time))\n",
        "\n",
        "print(\"\\nLogistic Regression tuned for optimal f1 performance:\")\n",
        "print(lr_optimal_f1.best_params_)"
      ]
    },
    {
      "cell_type": "markdown",
      "metadata": {
        "id": "mqkNodeRWE09"
      },
      "source": [
        "* Optimal accuracy:"
      ]
    },
    {
      "cell_type": "code",
      "execution_count": null,
      "metadata": {
        "id": "NDB4SWBlWHsp",
        "colab": {
          "base_uri": "https://localhost:8080/"
        },
        "outputId": "7ad5cb18-39de-4132-cdea-6cd851d95acd"
      },
      "outputs": [
        {
          "output_type": "stream",
          "name": "stdout",
          "text": [
            "              precision    recall  f1-score   support\n",
            "\n",
            "           1       1.00      1.00      1.00        35\n",
            "           2       0.73      0.92      0.81        12\n",
            "           3       1.00      1.00      1.00        21\n",
            "           4       0.94      0.79      0.86        19\n",
            "           5       1.00      1.00      1.00        15\n",
            "           6       1.00      1.00      1.00         8\n",
            "\n",
            "    accuracy                           0.95       110\n",
            "   macro avg       0.95      0.95      0.95       110\n",
            "weighted avg       0.96      0.95      0.96       110\n",
            "\n",
            "Total time for fit and predict: 0.02995443344116211 seconds\n",
            "\n",
            "Logistic Regression tuned for optimal accuracy performance:\n",
            "{'lr__max_iter': 15, 'pca__n_components': 20, 'selector__threshold': 0}\n"
          ]
        }
      ],
      "source": [
        "lr_optimal_acc = GridSearchCV(pipe_lr, dict(selector__threshold=vthreshold, pca__n_components=n_components, lr__max_iter=max_iter), cv=10, scoring='accuracy', n_jobs=-1)\n",
        "lr_optimal_acc.fit(x_train, y_train)\n",
        "lr_optimal_acc_time = lr_optimal_acc.refit_time_\n",
        "\n",
        "start_time = time.time()\n",
        "lr_preds_acc = lr_optimal_acc.predict(x_test)\n",
        "lr_optimal_acc_time += start_time - time.time()\n",
        "\n",
        "lr_optimalacc_acc = accuracy_score(y_test, lr_preds_acc)\n",
        "lr_optimalacc_f1 = f1_score(y_test, lr_preds_acc, average = 'macro')\n",
        "print(classification_report(y_test, lr_preds_acc))\n",
        "\n",
        "print(\"Total time for fit and predict: %s seconds\" % (lr_optimal_acc_time))\n",
        "\n",
        "print(\"\\nLogistic Regression tuned for optimal accuracy performance:\")\n",
        "print(lr_optimal_acc.best_params_)"
      ]
    },
    {
      "cell_type": "markdown",
      "source": [
        "**Παρατηρήσεις**<br>\n",
        "Εδώ, οι υπερπαράμετροι δεν είναι ίδιες για τη μεγιστοποίηση του f1 score από τη μία και του accuracy από την άλλη. Ωστόσο, οι υπερπαράμετοι έχουν κοντινές τιμές, το οποίο είναι λογικό φαινόμενο από τη στιγμή που επιδιώκεται σε κάθε περίπτωση να βελτιστοποιηθεί ο estimator στις προβλέψεις του."
      ],
      "metadata": {
        "id": "XiO1f4HNj8di"
      }
    },
    {
      "cell_type": "markdown",
      "source": [
        "##Performance"
      ],
      "metadata": {
        "id": "Sq6AogwChqx7"
      }
    },
    {
      "cell_type": "markdown",
      "source": [
        "Οι βελτιστοποιημένοι τρεις ταξινομητές στη μέση περίπτωση έχουν κοντινές τιμές accuracy και f1 score. Η υπεροχή κάποιου σε σχέση με τους άλλους δύο εξαρτάται από την εκάστοτε εκτέλεση του προγράμματος. Αυτό συμβαίνει, καθώς σε κάθε εκτέλεση επιλέγεται διαφορετικό κομμάτι του dataset για train και test. Παρακάτω παρουσιάζεται και σχολιάζεται μία εκ των εκτελέσεων που πραγματοποιήθηκε:"
      ],
      "metadata": {
        "id": "5LkaH4ZjnCwt"
      }
    },
    {
      "cell_type": "markdown",
      "metadata": {
        "id": "-agm8CpRCs3c"
      },
      "source": [
        "### Out-of-the-box performance:         "
      ]
    },
    {
      "cell_type": "code",
      "execution_count": null,
      "metadata": {
        "colab": {
          "base_uri": "https://localhost:8080/",
          "height": 142
        },
        "id": "XjgGfsLPGVAq",
        "outputId": "592dc5d1-968b-4319-cc0f-2ee86c5db635"
      },
      "outputs": [
        {
          "output_type": "display_data",
          "data": {
            "text/plain": [
              "                      f1 score  Accuracy      Time\n",
              "Gaussian Naive Bayes  0.907133  0.927273  0.003739\n",
              "k Nearest Neighbors   0.829271  0.854545  0.008265\n",
              "Logistic Regression   0.946012  0.954545  0.034227"
            ],
            "text/html": [
              "\n",
              "  <div id=\"df-7362dcd4-5b17-4d15-bf78-bb6b6d8509e7\">\n",
              "    <div class=\"colab-df-container\">\n",
              "      <div>\n",
              "<style scoped>\n",
              "    .dataframe tbody tr th:only-of-type {\n",
              "        vertical-align: middle;\n",
              "    }\n",
              "\n",
              "    .dataframe tbody tr th {\n",
              "        vertical-align: top;\n",
              "    }\n",
              "\n",
              "    .dataframe thead th {\n",
              "        text-align: right;\n",
              "    }\n",
              "</style>\n",
              "<table border=\"1\" class=\"dataframe\">\n",
              "  <thead>\n",
              "    <tr style=\"text-align: right;\">\n",
              "      <th></th>\n",
              "      <th>f1 score</th>\n",
              "      <th>Accuracy</th>\n",
              "      <th>Time</th>\n",
              "    </tr>\n",
              "  </thead>\n",
              "  <tbody>\n",
              "    <tr>\n",
              "      <th>Gaussian Naive Bayes</th>\n",
              "      <td>0.907133</td>\n",
              "      <td>0.927273</td>\n",
              "      <td>0.003739</td>\n",
              "    </tr>\n",
              "    <tr>\n",
              "      <th>k Nearest Neighbors</th>\n",
              "      <td>0.829271</td>\n",
              "      <td>0.854545</td>\n",
              "      <td>0.008265</td>\n",
              "    </tr>\n",
              "    <tr>\n",
              "      <th>Logistic Regression</th>\n",
              "      <td>0.946012</td>\n",
              "      <td>0.954545</td>\n",
              "      <td>0.034227</td>\n",
              "    </tr>\n",
              "  </tbody>\n",
              "</table>\n",
              "</div>\n",
              "      <button class=\"colab-df-convert\" onclick=\"convertToInteractive('df-7362dcd4-5b17-4d15-bf78-bb6b6d8509e7')\"\n",
              "              title=\"Convert this dataframe to an interactive table.\"\n",
              "              style=\"display:none;\">\n",
              "        \n",
              "  <svg xmlns=\"http://www.w3.org/2000/svg\" height=\"24px\"viewBox=\"0 0 24 24\"\n",
              "       width=\"24px\">\n",
              "    <path d=\"M0 0h24v24H0V0z\" fill=\"none\"/>\n",
              "    <path d=\"M18.56 5.44l.94 2.06.94-2.06 2.06-.94-2.06-.94-.94-2.06-.94 2.06-2.06.94zm-11 1L8.5 8.5l.94-2.06 2.06-.94-2.06-.94L8.5 2.5l-.94 2.06-2.06.94zm10 10l.94 2.06.94-2.06 2.06-.94-2.06-.94-.94-2.06-.94 2.06-2.06.94z\"/><path d=\"M17.41 7.96l-1.37-1.37c-.4-.4-.92-.59-1.43-.59-.52 0-1.04.2-1.43.59L10.3 9.45l-7.72 7.72c-.78.78-.78 2.05 0 2.83L4 21.41c.39.39.9.59 1.41.59.51 0 1.02-.2 1.41-.59l7.78-7.78 2.81-2.81c.8-.78.8-2.07 0-2.86zM5.41 20L4 18.59l7.72-7.72 1.47 1.35L5.41 20z\"/>\n",
              "  </svg>\n",
              "      </button>\n",
              "      \n",
              "  <style>\n",
              "    .colab-df-container {\n",
              "      display:flex;\n",
              "      flex-wrap:wrap;\n",
              "      gap: 12px;\n",
              "    }\n",
              "\n",
              "    .colab-df-convert {\n",
              "      background-color: #E8F0FE;\n",
              "      border: none;\n",
              "      border-radius: 50%;\n",
              "      cursor: pointer;\n",
              "      display: none;\n",
              "      fill: #1967D2;\n",
              "      height: 32px;\n",
              "      padding: 0 0 0 0;\n",
              "      width: 32px;\n",
              "    }\n",
              "\n",
              "    .colab-df-convert:hover {\n",
              "      background-color: #E2EBFA;\n",
              "      box-shadow: 0px 1px 2px rgba(60, 64, 67, 0.3), 0px 1px 3px 1px rgba(60, 64, 67, 0.15);\n",
              "      fill: #174EA6;\n",
              "    }\n",
              "\n",
              "    [theme=dark] .colab-df-convert {\n",
              "      background-color: #3B4455;\n",
              "      fill: #D2E3FC;\n",
              "    }\n",
              "\n",
              "    [theme=dark] .colab-df-convert:hover {\n",
              "      background-color: #434B5C;\n",
              "      box-shadow: 0px 1px 3px 1px rgba(0, 0, 0, 0.15);\n",
              "      filter: drop-shadow(0px 1px 2px rgba(0, 0, 0, 0.3));\n",
              "      fill: #FFFFFF;\n",
              "    }\n",
              "  </style>\n",
              "\n",
              "      <script>\n",
              "        const buttonEl =\n",
              "          document.querySelector('#df-7362dcd4-5b17-4d15-bf78-bb6b6d8509e7 button.colab-df-convert');\n",
              "        buttonEl.style.display =\n",
              "          google.colab.kernel.accessAllowed ? 'block' : 'none';\n",
              "\n",
              "        async function convertToInteractive(key) {\n",
              "          const element = document.querySelector('#df-7362dcd4-5b17-4d15-bf78-bb6b6d8509e7');\n",
              "          const dataTable =\n",
              "            await google.colab.kernel.invokeFunction('convertToInteractive',\n",
              "                                                     [key], {});\n",
              "          if (!dataTable) return;\n",
              "\n",
              "          const docLinkHtml = 'Like what you see? Visit the ' +\n",
              "            '<a target=\"_blank\" href=https://colab.research.google.com/notebooks/data_table.ipynb>data table notebook</a>'\n",
              "            + ' to learn more about interactive tables.';\n",
              "          element.innerHTML = '';\n",
              "          dataTable['output_type'] = 'display_data';\n",
              "          await google.colab.output.renderOutput(dataTable, element);\n",
              "          const docLink = document.createElement('div');\n",
              "          docLink.innerHTML = docLinkHtml;\n",
              "          element.appendChild(docLink);\n",
              "        }\n",
              "      </script>\n",
              "    </div>\n",
              "  </div>\n",
              "  "
            ]
          },
          "metadata": {}
        }
      ],
      "source": [
        "ootb_performance = np.array ([[gnb_ootb_f1, gnb_ootb_acc, gnb_ootb_time],\n",
        "                              [knn_ootb_f1, knn_ootb_acc, knn_ootb_time],\n",
        "                              [lr_ootb_f1, lr_ootb_acc, lr_ootb_time]])\n",
        "\n",
        "display(pd.DataFrame(ootb_performance, index = ['Gaussian Naive Bayes', 'k Nearest Neighbors', 'Logistic Regression'], columns = ['f1 score','Accuracy','Time']))"
      ]
    },
    {
      "cell_type": "code",
      "source": [
        "# scores diagram\n",
        "f = plt.figure()\n",
        "f.set_figwidth(10)\n",
        "f.set_figheight(6)\n",
        "x = np.arange(2)\n",
        "y1 = ootb_performance[0, :2]\n",
        "y2 = ootb_performance[1, :2]\n",
        "y3 = ootb_performance[2, :2]\n",
        "width = 0.2\n",
        "\n",
        "plt.bar(x-0.2, y1, width, color='#7FC6A4')\n",
        "plt.bar(x, y2, width, color='#DE6B48')\n",
        "plt.bar(x+0.2, y3, width, color='#7284A8')\n",
        "plt.xticks(x, ['f1 score', 'accuracy'])\n",
        "plt.ylabel(\"Scores\")\n",
        "plt.legend([\"GNB\", \"KNN\", \"Lr\"])\n",
        "plt.title(\"Out of the box estimators scores\", size=16)\n",
        "plt.show()\n",
        "\n",
        "# time diagram\n",
        "f = plt.figure()\n",
        "f.set_figwidth(8)\n",
        "f.set_figheight(5)\n",
        "x = np.arange(1)\n",
        "y1 = ootb_performance[0, 2]\n",
        "y2 = ootb_performance[1, 2]\n",
        "y3 = ootb_performance[2, 2]\n",
        "width = 0.1\n",
        "\n",
        "plt.bar(x-0.1, y1, width, color='#7FC6A4')\n",
        "plt.bar(x, y2, width, color='#DE6B48')\n",
        "plt.bar(x+0.1, y3, width, color='#7284A8')\n",
        "plt.xticks(x, ['time'], size=12)\n",
        "plt.ylabel(\"seconds\", size=12)\n",
        "plt.legend([\"GNB\", \"KNN\", \"Lr\"])\n",
        "plt.title(\"fit and predict time\", size=16)\n",
        "plt.show()"
      ],
      "metadata": {
        "colab": {
          "base_uri": "https://localhost:8080/",
          "height": 716
        },
        "id": "zVvxOxIhlu4B",
        "outputId": "3e0669a4-b90f-4a04-fad6-a232994dc043"
      },
      "execution_count": null,
      "outputs": [
        {
          "output_type": "display_data",
          "data": {
            "text/plain": [
              "<Figure size 720x432 with 1 Axes>"
            ],
            "image/png": "[encoded data removed]"
          },
          "metadata": {
            "needs_background": "light"
          }
        },
        {
          "output_type": "display_data",
          "data": {
            "text/plain": [
              "<Figure size 576x360 with 1 Axes>"
            ],
            "image/png": "[encoded data removed]"
          },
          "metadata": {
            "needs_background": "light"
          }
        }
      ]
    },
    {
      "cell_type": "markdown",
      "source": [
        "**Παρατηρήσεις**<br>\n",
        "Όσον αφορά τους out of the box ταξινομητές, βλέπουμε από το πρώτο διάγραμμα ότι ο καλύτερος είναι ο logistic regression τόσο σε accuracy όσο και σε f1 score. Ωστόσο, ο lr απαιτεί τον περισσότερο χρόνο για εκπαίδευση στο train set και πρόβλεψη στο test set. Χειρότερος ταξινομητής με default παραμέτρους είναι ο knn, ο οποίος έχει τα χαμηλότερο f1 score και accuracy.  "
      ],
      "metadata": {
        "id": "wGaxwCbvX9oN"
      }
    },
    {
      "cell_type": "markdown",
      "metadata": {
        "id": "JBufkSkEkz_d"
      },
      "source": [
        "###Optimal f1 score model's performance:"
      ]
    },
    {
      "cell_type": "code",
      "execution_count": null,
      "metadata": {
        "id": "zWYxka_BH7Wd",
        "colab": {
          "base_uri": "https://localhost:8080/",
          "height": 142
        },
        "outputId": "b6864d26-5e9e-469a-e874-ec2afbe58c2f"
      },
      "outputs": [
        {
          "output_type": "display_data",
          "data": {
            "text/plain": [
              "                      f1 score  Accuracy  f1 improvement  Acc improvement  \\\n",
              "Gaussian Naive Bayes  0.934874  0.945455        0.027741         0.018182   \n",
              "k Nearest Neighbors   0.927943  0.936364        0.098672         0.081818   \n",
              "Logistic Regression   0.934874  0.945455       -0.011138        -0.009091   \n",
              "\n",
              "                          Time  \n",
              "Gaussian Naive Bayes  0.023425  \n",
              "k Nearest Neighbors   0.131338  \n",
              "Logistic Regression   0.024135  "
            ],
            "text/html": [
              "\n",
              "  <div id=\"df-8e4c7045-3cba-414f-92ba-6d048d0255d6\">\n",
              "    <div class=\"colab-df-container\">\n",
              "      <div>\n",
              "<style scoped>\n",
              "    .dataframe tbody tr th:only-of-type {\n",
              "        vertical-align: middle;\n",
              "    }\n",
              "\n",
              "    .dataframe tbody tr th {\n",
              "        vertical-align: top;\n",
              "    }\n",
              "\n",
              "    .dataframe thead th {\n",
              "        text-align: right;\n",
              "    }\n",
              "</style>\n",
              "<table border=\"1\" class=\"dataframe\">\n",
              "  <thead>\n",
              "    <tr style=\"text-align: right;\">\n",
              "      <th></th>\n",
              "      <th>f1 score</th>\n",
              "      <th>Accuracy</th>\n",
              "      <th>f1 improvement</th>\n",
              "      <th>Acc improvement</th>\n",
              "      <th>Time</th>\n",
              "    </tr>\n",
              "  </thead>\n",
              "  <tbody>\n",
              "    <tr>\n",
              "      <th>Gaussian Naive Bayes</th>\n",
              "      <td>0.934874</td>\n",
              "      <td>0.945455</td>\n",
              "      <td>0.027741</td>\n",
              "      <td>0.018182</td>\n",
              "      <td>0.023425</td>\n",
              "    </tr>\n",
              "    <tr>\n",
              "      <th>k Nearest Neighbors</th>\n",
              "      <td>0.927943</td>\n",
              "      <td>0.936364</td>\n",
              "      <td>0.098672</td>\n",
              "      <td>0.081818</td>\n",
              "      <td>0.131338</td>\n",
              "    </tr>\n",
              "    <tr>\n",
              "      <th>Logistic Regression</th>\n",
              "      <td>0.934874</td>\n",
              "      <td>0.945455</td>\n",
              "      <td>-0.011138</td>\n",
              "      <td>-0.009091</td>\n",
              "      <td>0.024135</td>\n",
              "    </tr>\n",
              "  </tbody>\n",
              "</table>\n",
              "</div>\n",
              "      <button class=\"colab-df-convert\" onclick=\"convertToInteractive('df-8e4c7045-3cba-414f-92ba-6d048d0255d6')\"\n",
              "              title=\"Convert this dataframe to an interactive table.\"\n",
              "              style=\"display:none;\">\n",
              "        \n",
              "  <svg xmlns=\"http://www.w3.org/2000/svg\" height=\"24px\"viewBox=\"0 0 24 24\"\n",
              "       width=\"24px\">\n",
              "    <path d=\"M0 0h24v24H0V0z\" fill=\"none\"/>\n",
              "    <path d=\"M18.56 5.44l.94 2.06.94-2.06 2.06-.94-2.06-.94-.94-2.06-.94 2.06-2.06.94zm-11 1L8.5 8.5l.94-2.06 2.06-.94-2.06-.94L8.5 2.5l-.94 2.06-2.06.94zm10 10l.94 2.06.94-2.06 2.06-.94-2.06-.94-.94-2.06-.94 2.06-2.06.94z\"/><path d=\"M17.41 7.96l-1.37-1.37c-.4-.4-.92-.59-1.43-.59-.52 0-1.04.2-1.43.59L10.3 9.45l-7.72 7.72c-.78.78-.78 2.05 0 2.83L4 21.41c.39.39.9.59 1.41.59.51 0 1.02-.2 1.41-.59l7.78-7.78 2.81-2.81c.8-.78.8-2.07 0-2.86zM5.41 20L4 18.59l7.72-7.72 1.47 1.35L5.41 20z\"/>\n",
              "  </svg>\n",
              "      </button>\n",
              "      \n",
              "  <style>\n",
              "    .colab-df-container {\n",
              "      display:flex;\n",
              "      flex-wrap:wrap;\n",
              "      gap: 12px;\n",
              "    }\n",
              "\n",
              "    .colab-df-convert {\n",
              "      background-color: #E8F0FE;\n",
              "      border: none;\n",
              "      border-radius: 50%;\n",
              "      cursor: pointer;\n",
              "      display: none;\n",
              "      fill: #1967D2;\n",
              "      height: 32px;\n",
              "      padding: 0 0 0 0;\n",
              "      width: 32px;\n",
              "    }\n",
              "\n",
              "    .colab-df-convert:hover {\n",
              "      background-color: #E2EBFA;\n",
              "      box-shadow: 0px 1px 2px rgba(60, 64, 67, 0.3), 0px 1px 3px 1px rgba(60, 64, 67, 0.15);\n",
              "      fill: #174EA6;\n",
              "    }\n",
              "\n",
              "    [theme=dark] .colab-df-convert {\n",
              "      background-color: #3B4455;\n",
              "      fill: #D2E3FC;\n",
              "    }\n",
              "\n",
              "    [theme=dark] .colab-df-convert:hover {\n",
              "      background-color: #434B5C;\n",
              "      box-shadow: 0px 1px 3px 1px rgba(0, 0, 0, 0.15);\n",
              "      filter: drop-shadow(0px 1px 2px rgba(0, 0, 0, 0.3));\n",
              "      fill: #FFFFFF;\n",
              "    }\n",
              "  </style>\n",
              "\n",
              "      <script>\n",
              "        const buttonEl =\n",
              "          document.querySelector('#df-8e4c7045-3cba-414f-92ba-6d048d0255d6 button.colab-df-convert');\n",
              "        buttonEl.style.display =\n",
              "          google.colab.kernel.accessAllowed ? 'block' : 'none';\n",
              "\n",
              "        async function convertToInteractive(key) {\n",
              "          const element = document.querySelector('#df-8e4c7045-3cba-414f-92ba-6d048d0255d6');\n",
              "          const dataTable =\n",
              "            await google.colab.kernel.invokeFunction('convertToInteractive',\n",
              "                                                     [key], {});\n",
              "          if (!dataTable) return;\n",
              "\n",
              "          const docLinkHtml = 'Like what you see? Visit the ' +\n",
              "            '<a target=\"_blank\" href=https://colab.research.google.com/notebooks/data_table.ipynb>data table notebook</a>'\n",
              "            + ' to learn more about interactive tables.';\n",
              "          element.innerHTML = '';\n",
              "          dataTable['output_type'] = 'display_data';\n",
              "          await google.colab.output.renderOutput(dataTable, element);\n",
              "          const docLink = document.createElement('div');\n",
              "          docLink.innerHTML = docLinkHtml;\n",
              "          element.appendChild(docLink);\n",
              "        }\n",
              "      </script>\n",
              "    </div>\n",
              "  </div>\n",
              "  "
            ]
          },
          "metadata": {}
        }
      ],
      "source": [
        "optimal_f1_performance = np.array ([[gnb_optimalf1_f1, gnb_optimalf1_acc, gnb_optimalf1_f1 - gnb_ootb_f1, gnb_optimalf1_acc - gnb_ootb_acc, gnb_optimal_f1_time],\n",
        "                              [knn_optimalf1_f1, knn_optimalf1_acc, knn_optimalf1_f1 - knn_ootb_f1, knn_optimalf1_acc - knn_ootb_acc, knn_optimal_f1_time],\n",
        "                              [lr_optimalf1_f1, lr_optimalf1_acc, lr_optimalf1_f1 - lr_ootb_f1, lr_optimalf1_acc - lr_ootb_acc, lr_optimal_f1_time]])\n",
        "\n",
        "display(pd.DataFrame(optimal_f1_performance, index = ['Gaussian Naive Bayes', 'k Nearest Neighbors', 'Logistic Regression'], columns = ['f1 score','Accuracy','f1 improvement','Acc improvement','Time']))"
      ]
    },
    {
      "cell_type": "code",
      "source": [
        "# optimal-f1 scores\n",
        "f = plt.figure()\n",
        "f.set_figwidth(14)\n",
        "f.set_figheight(8)\n",
        "x = np.arange(4)\n",
        "y1 = optimal_f1_performance[0, :4]\n",
        "y2 = optimal_f1_performance[1, :4]\n",
        "y3 = optimal_f1_performance[2, :4]\n",
        "width = 0.2\n",
        "\n",
        "plt.bar(x-0.2, y1, width, color='#7FC6A4')\n",
        "plt.bar(x, y2, width, color='#DE6B48')\n",
        "plt.bar(x+0.2, y3, width, color='#7284A8')\n",
        "plt.xticks(x, ['f1 score', 'accuracy', 'f1 improvement', 'accuracy improvement'])\n",
        "plt.ylabel(\"Scores\")\n",
        "plt.legend([\"GNB\", \"KNN\", \"Lr\"])\n",
        "plt.title(\"Optimal f1 estimators scores\", size=16)\n",
        "plt.axhline(0, color='black', linewidth=0.5)\n",
        "plt.show()"
      ],
      "metadata": {
        "colab": {
          "base_uri": "https://localhost:8080/",
          "height": 501
        },
        "id": "PbHImrYmr4J3",
        "outputId": "6bfd15c8-8ba9-4d6a-e4d7-ef4ea27b59fe"
      },
      "execution_count": null,
      "outputs": [
        {
          "output_type": "display_data",
          "data": {
            "text/plain": [
              "<Figure size 1008x576 with 1 Axes>"
            ],
            "image/png": "[encoded data removed]"
          },
          "metadata": {
            "needs_background": "light"
          }
        }
      ]
    },
    {
      "cell_type": "markdown",
      "source": [
        "**Παρατηρήσεις**<br>\n",
        "Σύμφωνα με το παραπάνω διάγραμμα, τα καλύτερα f1 score και accuracy τα έχει ο ταξινομητής logistic regression. Αξίζει να σημειωθεί πως ο knn ταξινομητής έχει τη μεγαλύτερη βελτίωση σε σχέση με την out of the box υλοποίησή του, ενώ παράλληλα αρκετή βελτίωση βλέπουμε και στον gnb. Από την άλλη, ο lr βελτιώνεται σχετικά λίγο με την αλλαγή των default παραμέτρων του (είχε από την out of the box υλοποίησή του σχετικά καλή απόδοση). Τέλος, ο knn απαιτεί περισσότερο χρόνο για την εκπαίδευση και τη πρόβλεψη αποτελεσμάτων, ακολουθεί ο gnb, ενώ το λιγότερο χρόνο χρειάζεται ο lr."
      ],
      "metadata": {
        "id": "KSsoHJq6b99P"
      }
    },
    {
      "cell_type": "markdown",
      "metadata": {
        "id": "Uou7HqjFilaM"
      },
      "source": [
        "###Optimal accuracy model's performance:"
      ]
    },
    {
      "cell_type": "code",
      "execution_count": null,
      "metadata": {
        "id": "YoTsX37hHPVy",
        "colab": {
          "base_uri": "https://localhost:8080/",
          "height": 142
        },
        "outputId": "406d948b-12dd-4bd9-a70d-b76b50af179b"
      },
      "outputs": [
        {
          "output_type": "display_data",
          "data": {
            "text/plain": [
              "                      f1 score  Accuracy  f1 improvement  Acc improvement  \\\n",
              "Gaussian Naive Bayes  0.934874  0.945455        0.027741         0.018182   \n",
              "k Nearest Neighbors   0.927943  0.936364        0.098672         0.081818   \n",
              "Logistic Regression   0.945326  0.954545       -0.000686         0.000000   \n",
              "\n",
              "                          Time  \n",
              "Gaussian Naive Bayes  0.007068  \n",
              "k Nearest Neighbors   0.113437  \n",
              "Logistic Regression   0.029954  "
            ],
            "text/html": [
              "\n",
              "  <div id=\"df-57f9026c-3a67-496a-827b-c37064e58f51\">\n",
              "    <div class=\"colab-df-container\">\n",
              "      <div>\n",
              "<style scoped>\n",
              "    .dataframe tbody tr th:only-of-type {\n",
              "        vertical-align: middle;\n",
              "    }\n",
              "\n",
              "    .dataframe tbody tr th {\n",
              "        vertical-align: top;\n",
              "    }\n",
              "\n",
              "    .dataframe thead th {\n",
              "        text-align: right;\n",
              "    }\n",
              "</style>\n",
              "<table border=\"1\" class=\"dataframe\">\n",
              "  <thead>\n",
              "    <tr style=\"text-align: right;\">\n",
              "      <th></th>\n",
              "      <th>f1 score</th>\n",
              "      <th>Accuracy</th>\n",
              "      <th>f1 improvement</th>\n",
              "      <th>Acc improvement</th>\n",
              "      <th>Time</th>\n",
              "    </tr>\n",
              "  </thead>\n",
              "  <tbody>\n",
              "    <tr>\n",
              "      <th>Gaussian Naive Bayes</th>\n",
              "      <td>0.934874</td>\n",
              "      <td>0.945455</td>\n",
              "      <td>0.027741</td>\n",
              "      <td>0.018182</td>\n",
              "      <td>0.007068</td>\n",
              "    </tr>\n",
              "    <tr>\n",
              "      <th>k Nearest Neighbors</th>\n",
              "      <td>0.927943</td>\n",
              "      <td>0.936364</td>\n",
              "      <td>0.098672</td>\n",
              "      <td>0.081818</td>\n",
              "      <td>0.113437</td>\n",
              "    </tr>\n",
              "    <tr>\n",
              "      <th>Logistic Regression</th>\n",
              "      <td>0.945326</td>\n",
              "      <td>0.954545</td>\n",
              "      <td>-0.000686</td>\n",
              "      <td>0.000000</td>\n",
              "      <td>0.029954</td>\n",
              "    </tr>\n",
              "  </tbody>\n",
              "</table>\n",
              "</div>\n",
              "      <button class=\"colab-df-convert\" onclick=\"convertToInteractive('df-57f9026c-3a67-496a-827b-c37064e58f51')\"\n",
              "              title=\"Convert this dataframe to an interactive table.\"\n",
              "              style=\"display:none;\">\n",
              "        \n",
              "  <svg xmlns=\"http://www.w3.org/2000/svg\" height=\"24px\"viewBox=\"0 0 24 24\"\n",
              "       width=\"24px\">\n",
              "    <path d=\"M0 0h24v24H0V0z\" fill=\"none\"/>\n",
              "    <path d=\"M18.56 5.44l.94 2.06.94-2.06 2.06-.94-2.06-.94-.94-2.06-.94 2.06-2.06.94zm-11 1L8.5 8.5l.94-2.06 2.06-.94-2.06-.94L8.5 2.5l-.94 2.06-2.06.94zm10 10l.94 2.06.94-2.06 2.06-.94-2.06-.94-.94-2.06-.94 2.06-2.06.94z\"/><path d=\"M17.41 7.96l-1.37-1.37c-.4-.4-.92-.59-1.43-.59-.52 0-1.04.2-1.43.59L10.3 9.45l-7.72 7.72c-.78.78-.78 2.05 0 2.83L4 21.41c.39.39.9.59 1.41.59.51 0 1.02-.2 1.41-.59l7.78-7.78 2.81-2.81c.8-.78.8-2.07 0-2.86zM5.41 20L4 18.59l7.72-7.72 1.47 1.35L5.41 20z\"/>\n",
              "  </svg>\n",
              "      </button>\n",
              "      \n",
              "  <style>\n",
              "    .colab-df-container {\n",
              "      display:flex;\n",
              "      flex-wrap:wrap;\n",
              "      gap: 12px;\n",
              "    }\n",
              "\n",
              "    .colab-df-convert {\n",
              "      background-color: #E8F0FE;\n",
              "      border: none;\n",
              "      border-radius: 50%;\n",
              "      cursor: pointer;\n",
              "      display: none;\n",
              "      fill: #1967D2;\n",
              "      height: 32px;\n",
              "      padding: 0 0 0 0;\n",
              "      width: 32px;\n",
              "    }\n",
              "\n",
              "    .colab-df-convert:hover {\n",
              "      background-color: #E2EBFA;\n",
              "      box-shadow: 0px 1px 2px rgba(60, 64, 67, 0.3), 0px 1px 3px 1px rgba(60, 64, 67, 0.15);\n",
              "      fill: #174EA6;\n",
              "    }\n",
              "\n",
              "    [theme=dark] .colab-df-convert {\n",
              "      background-color: #3B4455;\n",
              "      fill: #D2E3FC;\n",
              "    }\n",
              "\n",
              "    [theme=dark] .colab-df-convert:hover {\n",
              "      background-color: #434B5C;\n",
              "      box-shadow: 0px 1px 3px 1px rgba(0, 0, 0, 0.15);\n",
              "      filter: drop-shadow(0px 1px 2px rgba(0, 0, 0, 0.3));\n",
              "      fill: #FFFFFF;\n",
              "    }\n",
              "  </style>\n",
              "\n",
              "      <script>\n",
              "        const buttonEl =\n",
              "          document.querySelector('#df-57f9026c-3a67-496a-827b-c37064e58f51 button.colab-df-convert');\n",
              "        buttonEl.style.display =\n",
              "          google.colab.kernel.accessAllowed ? 'block' : 'none';\n",
              "\n",
              "        async function convertToInteractive(key) {\n",
              "          const element = document.querySelector('#df-57f9026c-3a67-496a-827b-c37064e58f51');\n",
              "          const dataTable =\n",
              "            await google.colab.kernel.invokeFunction('convertToInteractive',\n",
              "                                                     [key], {});\n",
              "          if (!dataTable) return;\n",
              "\n",
              "          const docLinkHtml = 'Like what you see? Visit the ' +\n",
              "            '<a target=\"_blank\" href=https://colab.research.google.com/notebooks/data_table.ipynb>data table notebook</a>'\n",
              "            + ' to learn more about interactive tables.';\n",
              "          element.innerHTML = '';\n",
              "          dataTable['output_type'] = 'display_data';\n",
              "          await google.colab.output.renderOutput(dataTable, element);\n",
              "          const docLink = document.createElement('div');\n",
              "          docLink.innerHTML = docLinkHtml;\n",
              "          element.appendChild(docLink);\n",
              "        }\n",
              "      </script>\n",
              "    </div>\n",
              "  </div>\n",
              "  "
            ]
          },
          "metadata": {}
        }
      ],
      "source": [
        "optimal_acc_performance = np.array ([[gnb_optimalacc_f1, gnb_optimalacc_acc, gnb_optimalacc_f1 - gnb_ootb_f1, gnb_optimalacc_acc - gnb_ootb_acc, gnb_optimal_acc_time],\n",
        "                              [knn_optimalacc_f1, knn_optimalacc_acc, knn_optimalacc_f1 - knn_ootb_f1, knn_optimalacc_acc - knn_ootb_acc, knn_optimal_acc_time],\n",
        "                              [lr_optimalacc_f1, lr_optimalacc_acc, lr_optimalacc_f1 - lr_ootb_f1, lr_optimalacc_acc - lr_ootb_acc, lr_optimal_acc_time]])\n",
        "\n",
        "display(pd.DataFrame(optimal_acc_performance, index = ['Gaussian Naive Bayes', 'k Nearest Neighbors', 'Logistic Regression'], columns = ['f1 score','Accuracy','f1 improvement','Acc improvement','Time']))"
      ]
    },
    {
      "cell_type": "code",
      "source": [
        "# optimal-accuracy scores\n",
        "f = plt.figure()\n",
        "f.set_figwidth(14)\n",
        "f.set_figheight(8)\n",
        "x = np.arange(4)\n",
        "y1 = optimal_acc_performance[0, :4]\n",
        "y2 = optimal_acc_performance[1, :4]\n",
        "y3 = optimal_acc_performance[2, :4]\n",
        "width = 0.2\n",
        "\n",
        "plt.bar(x-0.2, y1, width, color='#7FC6A4')\n",
        "plt.bar(x, y2, width, color='#DE6B48')\n",
        "plt.bar(x+0.2, y3, width, color='#7284A8')\n",
        "plt.xticks(x, ['f1 score', 'accuracy', 'f1 improvement', 'accuracy improvement'])\n",
        "plt.ylabel(\"Scores\")\n",
        "plt.legend([\"GNB\", \"KNN\", \"Lr\"])\n",
        "plt.title(\"Optimal accuracy estimators scores\", size=16)\n",
        "plt.axhline(0, color='black', linewidth=0.5)\n",
        "plt.show()"
      ],
      "metadata": {
        "id": "c7DU9d8AnGnO",
        "colab": {
          "base_uri": "https://localhost:8080/",
          "height": 501
        },
        "outputId": "ec61f613-159e-42be-bc43-e868c5dad273"
      },
      "execution_count": null,
      "outputs": [
        {
          "output_type": "display_data",
          "data": {
            "text/plain": [
              "<Figure size 1008x576 with 1 Axes>"
            ],
            "image/png": "[encoded data removed]"
          },
          "metadata": {
            "needs_background": "light"
          }
        }
      ]
    },
    {
      "cell_type": "markdown",
      "source": [
        "**Παρατηρήσεις**<br>\n",
        "Και οι τρεις ταξινομητές βελτιστοποιημένοι ως προς το accuracy έχουν πολύ κοντινές τιμές accuracy και f1 score. Σύμφωνα με το bar plot, καλύτερος σε f1 score είναι ο logistic regression με απειροελάχιστη διαφορά από τον knn, ενώ το υψηλότερο accuracy το έχει ο knn. O ταξινομητής knn έχει τη μεγαλύτερη βελτίωση σε σχέση με την out of the box υλοποίησή του, ενώ παράλληλα αρκετή βελτίωση βλέπουμε και στον gnb. Από την άλλη, ο lr δε βελτιώνεται καθόλου με την αλλαγή των default παραμέτρων του, αντιθέτως φαίνεται να πέφτει λίγο η επίδοσή του. Τέλος, ο knn απαιτεί περισσότερο χρόνο για την εκπαίδευση και τη πρόβλεψη αποτελεσμάτων, ακολουθεί ο gnb, ενώ το λιγότερο χρόνο χρειάζεται ο lr."
      ],
      "metadata": {
        "id": "i4HrpmIed8al"
      }
    },
    {
      "cell_type": "markdown",
      "metadata": {
        "id": "ppqvMRvSYklG"
      },
      "source": [
        "###Worst Classifier: Out-of-the-box knn"
      ]
    },
    {
      "cell_type": "markdown",
      "source": [
        "Παρακάτω παρουσιάζεται το confusion matrix του \"χειρότερου\",σύμφωνα με τις δύο μετρικές, ταξινομητή. Όπως φαίνεται αυτός είναι ο Out-of-the-box kΝΝ. "
      ],
      "metadata": {
        "id": "aOxzUlD6FFya"
      }
    },
    {
      "cell_type": "code",
      "execution_count": null,
      "metadata": {
        "id": "zb3F6e9eYsq0",
        "colab": {
          "base_uri": "https://localhost:8080/",
          "height": 282
        },
        "outputId": "94f77883-499b-40d1-d433-d5e533f8ac10"
      },
      "outputs": [
        {
          "output_type": "execute_result",
          "data": {
            "text/plain": [
              "<matplotlib.axes._subplots.AxesSubplot at 0x7f300c2312d0>"
            ]
          },
          "metadata": {},
          "execution_count": 30
        },
        {
          "output_type": "display_data",
          "data": {
            "text/plain": [
              "<Figure size 432x288 with 2 Axes>"
            ],
            "image/png": "[encoded data removed]"
          },
          "metadata": {
            "needs_background": "light"
          }
        }
      ],
      "source": [
        "worst_cm = confusion_matrix(y_test, knn_ootb_preds)\n",
        "df_cm = pd.DataFrame(worst_cm, np.arange(6)+1, np.arange(6)+1)\n",
        "sn.heatmap(df_cm, annot=True)"
      ]
    },
    {
      "cell_type": "markdown",
      "source": [
        "**Παρατηρήσεις**<br>\n",
        "Αρχίκα, ένας ταξινομητής έχει καλή απόδοση με βάση το confusion matrix, εφόσον όλα τα στοιχεία του βρίσκονται στην διαγώνιο.\n",
        "Από την παραπάνω εικόνα παρατηρούμε ότι ο συγκεκριμένος ταξινομητής τείνει να κάνει misclassify την κλάση 4 (pityriasis rosea). Αυτό συμαίνει ότι, αντί να τοποθετήσει τα δεδομένα στην συγκεκρίμενη κλάση, τα τοποθετεί σε κάποια άλλη (στην προκειμένη περίπτωση στην 2, seboreic dermatitis). Έτσι, μπόρουμε να καταλάβουμε σε ποιο σημείο μπορούμε να εστιάσουμε, για να τον βελτιώσουμε και πως προκύπτουν οι χαμηλότερες τιμές στις μετρικές μας. "
      ],
      "metadata": {
        "id": "c5XsYvQVFyGP"
      }
    },
    {
      "cell_type": "markdown",
      "metadata": {
        "id": "uhRzQhpfhCRu"
      },
      "source": [
        "###Best Classifier: Optimal Logistic Regression"
      ]
    },
    {
      "cell_type": "markdown",
      "source": [
        "Παρακάτω παρουσιάζεται το confusion matrix του \"καλύτερου\",σύμφωνα με τις δύο μετρικές, ταξινομητή. Όπως φαίνεται αυτός είναι ο Optimal Logistic Regression. "
      ],
      "metadata": {
        "id": "nEV3w7V8Kq0w"
      }
    },
    {
      "cell_type": "code",
      "execution_count": null,
      "metadata": {
        "id": "yDxPlIVvhK43",
        "colab": {
          "base_uri": "https://localhost:8080/",
          "height": 286
        },
        "outputId": "337a6f9f-d631-4075-c4c3-b9ad463e1274"
      },
      "outputs": [
        {
          "output_type": "execute_result",
          "data": {
            "text/plain": [
              "<matplotlib.axes._subplots.AxesSubplot at 0x7f300bc03f10>"
            ]
          },
          "metadata": {},
          "execution_count": 31
        },
        {
          "output_type": "display_data",
          "data": {
            "text/plain": [
              "<Figure size 432x288 with 2 Axes>"
            ],
            "image/png": "[encoded data removed]"
          },
          "metadata": {
            "needs_background": "light"
          }
        }
      ],
      "source": [
        "best_cm = confusion_matrix(y_test, lr_preds_acc)\n",
        "df_cm = pd.DataFrame(best_cm, np.arange(6)+1, np.arange(6)+1)\n",
        "sn.heatmap(df_cm, annot=True)"
      ]
    },
    {
      "cell_type": "markdown",
      "source": [
        "**Παρατηρήσεις**<br>\n",
        "Αντίστοιχα, βλέπουμε ότι ο συγκεκριμένος ταξινομητής έχει τα περισσότερα στοιχεία του στην διαγώνιο, επιβεβαιώνοντας τις υψηλές τιμές που έχουν οι μετρικές του. Παρατηρείται ότι πάλι στην κλάση 4 (pityriasis rosea) κάνει misclassify, αλλά στη προκειμένη περίπτωση είναι μικρότερο."
      ],
      "metadata": {
        "id": "tTVvPx-JLClG"
      }
    }
  ],
  "metadata": {
    "colab": {
      "collapsed_sections": [
        "mfTlsc8tBxqK",
        "whFRNjeBQ9HO",
        "ffjjC0NmQ2Bb",
        "ibVKSW6_RFWN",
        "JWMHsFaERKbR",
        "yw9UrmKpRMUu",
        "fJ6p26AbRV_A",
        "TQiWxT6sRaK1",
        "pTc6ahYzRnKD",
        "N7ru5hm1Rp1d",
        "sOJGxqboRu7I",
        "Sq6AogwChqx7",
        "-agm8CpRCs3c",
        "JBufkSkEkz_d",
        "Uou7HqjFilaM"
      ],
      "provenance": []
    },
    "gpuClass": "standard",
    "kernelspec": {
      "display_name": "Python 3",
      "name": "python3"
    },
    "language_info": {
      "name": "python"
    }
  },
  "nbformat": 4,
  "nbformat_minor": 0
}